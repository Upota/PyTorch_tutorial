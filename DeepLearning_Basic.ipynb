{
 "cells": [
  {
   "cell_type": "code",
   "execution_count": 1,
   "metadata": {},
   "outputs": [],
   "source": [
    "import numpy as np\n",
    "import matplotlib.pyplot as plt\n",
    "from sklearn import datasets"
   ]
  },
  {
   "cell_type": "code",
   "execution_count": 2,
   "metadata": {},
   "outputs": [
    {
     "name": "stdout",
     "output_type": "stream",
     "text": [
      "(1797, 64)\n",
      "[0 1 2 3 4 5 6 7 8 9]\n"
     ]
    }
   ],
   "source": [
    "img_size = 8\n",
    "n_mid = 16\n",
    "n_out = 10\n",
    "eta = 0.001\n",
    "epochs = 51\n",
    "batch_size = 32\n",
    "interval = 5\n",
    "\n",
    "digits_data = datasets.load_digits()\n",
    "\n",
    "print(digits_data.data.shape)\n",
    "print(digits_data.target[:10])"
   ]
  },
  {
   "cell_type": "markdown",
   "metadata": {},
   "source": [
    "**Layer**"
   ]
  },
  {
   "cell_type": "code",
   "execution_count": 3,
   "metadata": {},
   "outputs": [],
   "source": [
    "class BaseLayer:\n",
    "    def update(self, eta):\n",
    "        self.w -= eta * self.grad_w\n",
    "        self.b -= eta * self.grad_b\n",
    "        \n",
    "class MiddleLayer(BaseLayer): # FC\n",
    "    def __init__(self, n_upper, n):\n",
    "        self.w = np.random.randn(n_upper, n) * np.sqrt(2/n_upper) # He init\n",
    "        self.b = np.zeros(n)\n",
    "        \n",
    "    def forward(self, x):\n",
    "        self.x = x # input\n",
    "        self.u = np.dot(x, self.w) + self.b # affine\n",
    "        self.y = np.where(self.u <= 0, 0, self.u) # ReLU\n",
    "    \n",
    "    def backward(self, grad_y):\n",
    "        delta = grad_y * np.where(self.u <= 0, 0, 1)\n",
    "        \n",
    "        self.grad_w = np.dot(self.x.T, delta)\n",
    "        self.grad_b = np.sum(delta, axis=0)\n",
    "        self.grad_x = np.dot(delta, self.w.T)\n",
    "        \n",
    "class OutputLayer(BaseLayer):\n",
    "    def __init__(self, n_upper, n):\n",
    "        self.w = np.random.randn(n_upper, n) / np.sqrt(n_upper) # Xavier\n",
    "        self.b = np.zeros(n)\n",
    "        \n",
    "    def forward(self, x):\n",
    "        self.x = x\n",
    "        u = np.dot(x, self.w) + self.b\n",
    "        self.y = np.exp(u) / np.sum(np.exp(u), axis=1, keepdims=True) # softmax\n",
    "        \n",
    "    def backward(self, t):\n",
    "        delta = self.y - t\n",
    "        \n",
    "        self.grad_w = np.dot(self.x.T, delta)\n",
    "        self.grad_b = np.sum(delta, axis=0)\n",
    "        self.grad_x = np.dot(delta, self.w.T)"
   ]
  },
  {
   "cell_type": "markdown",
   "metadata": {},
   "source": [
    "**Preprocessing**"
   ]
  },
  {
   "cell_type": "code",
   "execution_count": 4,
   "metadata": {},
   "outputs": [],
   "source": [
    "from sklearn.model_selection import train_test_split\n",
    "\n",
    "input_data = np.asarray(digits_data.data)\n",
    "input_data = (input_data - np.average(input_data)) / np.std(input_data) # normalization\n",
    "\n",
    "correct = np.asarray(digits_data.target)\n",
    "correct_data = np.zeros((len(correct), n_out))\n",
    "for i in range(len(correct)):\n",
    "    correct_data[i, correct[i]] = 1 # one-hot encoding\n",
    "    \n",
    "x_train, x_test, t_train, t_test = train_test_split(input_data, correct_data)"
   ]
  },
  {
   "cell_type": "markdown",
   "metadata": {},
   "source": [
    "**forward and backward prop**"
   ]
  },
  {
   "cell_type": "code",
   "execution_count": 5,
   "metadata": {},
   "outputs": [],
   "source": [
    "layers = [MiddleLayer(img_size * img_size, n_mid),\n",
    "             MiddleLayer(n_mid, n_mid),\n",
    "              OutputLayer(n_mid, n_out)\n",
    "         ]\n",
    "\n",
    "def forward_propagation(x):\n",
    "    for layer in layers:\n",
    "        layer.forward(x)\n",
    "        x = layer.y\n",
    "    return x\n",
    "\n",
    "def backpropagation(t):\n",
    "    grad_y = t\n",
    "    for layer in reversed(layers):\n",
    "        layer.backward(grad_y)\n",
    "        grad_y = layer.grad_x\n",
    "    return grad_y\n",
    "\n",
    "def update_params():\n",
    "    for layer in layers:\n",
    "        layer.update(eta)"
   ]
  },
  {
   "cell_type": "code",
   "execution_count": 6,
   "metadata": {},
   "outputs": [],
   "source": [
    "def get_error(x, t):\n",
    "    y = forward_propagation(x)\n",
    "    return - np.sum(t * np.log(y + 1e-7)) / len(y) # cross-entropy error\n",
    "\n",
    "def get_accuracy(x, t):\n",
    "    y = forward_propagation(x)\n",
    "    count = np.sum(np.argmax(y, axis=1) == np.argmax(t, axis=1))\n",
    "    return count / len(y)"
   ]
  },
  {
   "cell_type": "markdown",
   "metadata": {},
   "source": [
    "**Mini-batch**"
   ]
  },
  {
   "cell_type": "code",
   "execution_count": 7,
   "metadata": {},
   "outputs": [
    {
     "name": "stdout",
     "output_type": "stream",
     "text": [
      "Epoch:1/51 Error_train: 1.9643372184331864 Error_test: 1.9866822450795396\n",
      "Epoch:6/51 Error_train: 0.4582993551673209 Error_test: 0.4315023039192118\n",
      "Epoch:11/51 Error_train: 0.22696163958389792 Error_test: 0.19983384825328973\n",
      "Epoch:16/51 Error_train: 0.15309811276451585 Error_test: 0.14341337977633903\n",
      "Epoch:21/51 Error_train: 0.11924224519881876 Error_test: 0.1138162399573939\n",
      "Epoch:26/51 Error_train: 0.09792189211394647 Error_test: 0.09589975771170392\n",
      "Epoch:31/51 Error_train: 0.07478072161786864 Error_test: 0.09105774814166741\n",
      "Epoch:36/51 Error_train: 0.06426713951793694 Error_test: 0.08488621176311006\n",
      "Epoch:41/51 Error_train: 0.053614200114614916 Error_test: 0.08519783362027308\n",
      "Epoch:46/51 Error_train: 0.04956856676237977 Error_test: 0.09210790519308368\n",
      "Epoch:51/51 Error_train: 0.03815829481118639 Error_test: 0.08222184755251533\n"
     ]
    },
    {
     "data": {
      "image/png": "[encoded data removed]",
      "text/plain": [
       "<Figure size 432x288 with 1 Axes>"
      ]
     },
     "metadata": {
      "needs_background": "light"
     },
     "output_type": "display_data"
    },
    {
     "name": "stdout",
     "output_type": "stream",
     "text": [
      "Acc_train: 99.55456570155901% Acc_test: 97.55555555555556%\n"
     ]
    }
   ],
   "source": [
    "error_record_train = []\n",
    "error_record_test = []\n",
    "\n",
    "n_batch = len(x_train) // batch_size\n",
    "for i in range(epochs):\n",
    "    \n",
    "    index_random = np.arange(len(x_train))\n",
    "    np.random.shuffle(index_random)\n",
    "    for j in range(n_batch):\n",
    "        \n",
    "        mb_index = index_random[j * batch_size:(j + 1) * batch_size]\n",
    "        x_mb = x_train[mb_index, :]\n",
    "        t_mb = t_train[mb_index, :]\n",
    "        \n",
    "        forward_propagation(x_mb)\n",
    "        backpropagation(t_mb)\n",
    "        \n",
    "        update_params()\n",
    "        \n",
    "    error_train = get_error(x_train, t_train)\n",
    "    error_record_train.append(error_train)\n",
    "    error_test = get_error(x_test, t_test)\n",
    "    error_record_test.append(error_test)\n",
    "    \n",
    "    if i % interval == 0:\n",
    "        print(\"Epoch:\" + str(i + 1) + \"/\" + str(epochs),\n",
    "             \"Error_train: \" + str(error_train),\n",
    "             \"Error_test: \" + str(error_test))\n",
    "        \n",
    "plt.plot(range(1, len(error_record_train) + 1), error_record_train, label=\"Train\")\n",
    "plt.plot(range(1, len(error_record_test) + 1), error_record_test, label=\"Test\")\n",
    "plt.legend()\n",
    "\n",
    "plt.xlabel(\"Epochs\")\n",
    "plt.ylabel(\"Error\")\n",
    "plt.show()\n",
    "\n",
    "acc_train = get_accuracy(x_train, t_train)\n",
    "acc_test = get_accuracy(x_test, t_test)\n",
    "print(\"Acc_train: \" + str(acc_train * 100) + \"%\",\n",
    "     \"Acc_test: \" + str(acc_test * 100) + \"%\"\n",
    "     )"
   ]
  },
  {
   "cell_type": "code",
   "execution_count": null,
   "metadata": {},
   "outputs": [],
   "source": []
  }
 ],
 "metadata": {
  "kernelspec": {
   "display_name": "Python 3",
   "language": "python",
   "name": "python3"
  },
  "language_info": {
   "codemirror_mode": {
    "name": "ipython",
    "version": 3
   },
   "file_extension": ".py",
   "mimetype": "text/x-python",
   "name": "python",
   "nbconvert_exporter": "python",
   "pygments_lexer": "ipython3",
   "version": "3.8.3"
  }
 },
 "nbformat": 4,
 "nbformat_minor": 4
}
