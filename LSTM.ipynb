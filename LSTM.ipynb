{
 "cells": [
  {
   "cell_type": "markdown",
   "metadata": {
    "id": "B8zMJXVYWRoc"
   },
   "source": [
    "## LSTM"
   ]
  },
  {
   "cell_type": "markdown",
   "metadata": {
    "id": "UM3EvsnWWRoe"
   },
   "source": [
    "**forget gate**"
   ]
  },
  {
   "cell_type": "markdown",
   "metadata": {
    "id": "Z6x6GWOUWRoe"
   },
   "source": [
    "$$A^{(t)}_{0} = \\sigma (X^{(t)}W_{0} + Y^{(t-1)}V_{0} + B_{0}) $$"
   ]
  },
  {
   "cell_type": "markdown",
   "metadata": {
    "id": "uO6lkyadWRoe"
   },
   "source": [
    "**input gate**"
   ]
  },
  {
   "cell_type": "markdown",
   "metadata": {
    "id": "uL6Iup2NWRof"
   },
   "source": [
    "$$A^{(t)}_{1} = \\sigma (X^{(t)}W_{1} + Y^{(t-1)}V_{1} + B_{1}) $$"
   ]
  },
  {
   "cell_type": "markdown",
   "metadata": {
    "id": "mlRodXHoWRof"
   },
   "source": [
    "**new memory**"
   ]
  },
  {
   "cell_type": "markdown",
   "metadata": {
    "id": "3CBBnjX4WRof"
   },
   "source": [
    "$$A^{(t)}_{2} = \\tanh (X^{(t)}W_{2} + Y^{(t-1)}V_{2} + B_{2}) $$"
   ]
  },
  {
   "cell_type": "markdown",
   "metadata": {
    "id": "xKq1JmmoWRog"
   },
   "source": [
    "**output gate**"
   ]
  },
  {
   "cell_type": "markdown",
   "metadata": {
    "id": "n_ipcKLBWRoh"
   },
   "source": [
    "$$A^{(t)}_{3} = \\sigma (X^{(t)}W_{3} + Y^{(t-1)}V_{3} + B_{3}) $$"
   ]
  },
  {
   "cell_type": "markdown",
   "metadata": {
    "id": "byevWDjQWRoh"
   },
   "source": [
    "### Forward Propagation"
   ]
  },
  {
   "cell_type": "markdown",
   "metadata": {
    "id": "AXLmcwSYWRoh"
   },
   "source": [
    "$$U^{(t)}_{g} = X^{(t)}W_{g} + Y^{(t-1)}V_{g} + B_{g} $$  \n",
    "$$A^{(t)}_{g} =  f_{g}(U^{(t)}_{g})$$  \n",
    "$$C^{(t)} = A^{(t)}_{0} \\circ C^{(t-1)} + A^{(t)}_{1} \\circ A^{(t)}_{2} $$  \n",
    "$$Y^{(t)} = A^{(t)}_{3} \\circ \\tanh(C^{(t)}) $$  "
   ]
  },
  {
   "cell_type": "markdown",
   "metadata": {
    "id": "fK0ayFOeWRoi"
   },
   "source": [
    "### sin Prediction"
   ]
  },
  {
   "cell_type": "code",
   "execution_count": 1,
   "metadata": {
    "id": "nOBexBsYWRoi"
   },
   "outputs": [],
   "source": [
    "import numpy as np\n",
    "import matplotlib.pyplot as plt"
   ]
  },
  {
   "cell_type": "code",
   "execution_count": 2,
   "metadata": {
    "id": "OCl9jj40WRoj"
   },
   "outputs": [],
   "source": [
    "n_time = 10\n",
    "n_in = 1\n",
    "n_mid = 20\n",
    "n_out = 1\n",
    "\n",
    "eta = 0.01\n",
    "epochs = 101\n",
    "batch_size = 8\n",
    "interval = 10"
   ]
  },
  {
   "cell_type": "code",
   "execution_count": 3,
   "metadata": {
    "id": "KNFDirh5WRoj"
   },
   "outputs": [],
   "source": [
    "def sigmoid(x):\n",
    "    return 1 / (1 + np.exp(-x))"
   ]
  },
  {
   "cell_type": "code",
   "execution_count": 4,
   "metadata": {
    "id": "uAV1KvJLWRoj"
   },
   "outputs": [],
   "source": [
    "sin_x = np.linspace(-2 * np.pi, 2 * np.pi)\n",
    "sin_y = np.sin(sin_x) + 0.1 * np.random.randn(len(sin_x))\n",
    "n_sample = len(sin_x) - n_time\n",
    "input_data = np.zeros((n_sample, n_time, n_in))\n",
    "correct_data = np.zeros((n_sample, n_out))\n",
    "for i in range(n_sample):\n",
    "    input_data[i] = sin_y[i:i + n_time].reshape(-1, 1)\n",
    "    correct_data[i] = sin_y[i + n_time]"
   ]
  },
  {
   "cell_type": "markdown",
   "metadata": {
    "id": "zeELJmY8WRok"
   },
   "source": [
    "**Layer**"
   ]
  },
  {
   "cell_type": "code",
   "execution_count": 5,
   "metadata": {
    "id": "Z3s8gTKJWRok"
   },
   "outputs": [],
   "source": [
    "class LSTMLayer:\n",
    "    def __init__(self, n_upper, n):\n",
    "        self.w = np.random.randn(4, n_upper, n) / np.sqrt(n) # Xavier init\n",
    "        self.v = np.random.randn(4, n, n) / np.sqrt(n)\n",
    "        self.b = np.zeros((4, n))\n",
    "        \n",
    "    def forward(self, x, y_prev, c_prev):\n",
    "        u = np.matmul(x, self.w) + np.matmul(y_prev, self.v) + self.b.reshape(4, 1, -1)\n",
    "        \n",
    "        a0 = sigmoid(u[0])\n",
    "        a1 = sigmoid(u[1])\n",
    "        a2 = np.tanh(u[2])\n",
    "        a3 = sigmoid(u[3])\n",
    "        self.gates = np.stack((a0, a1, a2, a3))\n",
    "        \n",
    "        self.c = a0 * c_prev + a1 * a2\n",
    "        self.y = a3 * np.tanh(self.c)\n",
    "        \n",
    "    def backward(self, x, y, c, y_prev, c_prev, gates, grad_y, grad_c):\n",
    "        a0, a1, a2, a3 = gates\n",
    "        tanh_c = np.tanh(c)\n",
    "        r = grad_c + grad_y * a3 * (1 - tanh_c ** 2)\n",
    "        \n",
    "        delta0 = r * c_prev * a0 * (1 - a0)\n",
    "        delta1 = r * a2 * a1 * (1 - a1)\n",
    "        delta2 = r * a1 * (1 - a2 ** 2)\n",
    "        delta3 = grad_y * tanh_c * a3 * (1 - a3)\n",
    "        \n",
    "        deltas = np.stack((delta0, delta1, delta2, delta3))\n",
    "        \n",
    "        self.grad_w += np.matmul(x.T, deltas)\n",
    "        self.grad_v += np.matmul(y_prev.T, deltas)\n",
    "        self.grad_b += np.sum(deltas, axis=1)\n",
    "        \n",
    "        grad_x = np.matmul(deltas, self.w.transpose(0, 2, 1))\n",
    "        self.grad_x = np.sum(grad_x, axis=0)\n",
    "        \n",
    "        grad_y_prev = np.matmul(deltas, self.v.transpose(0, 2, 1))\n",
    "        self.grad_y_prev = np.sum(grad_y_prev, axis=0)\n",
    "        \n",
    "        self.grad_c_prev = r * a0\n",
    "        \n",
    "    def reset_sum_grad(self):\n",
    "        self.grad_w = np.zeros_like(self.w)\n",
    "        self.grad_v = np.zeros_like(self.v)\n",
    "        self.grad_b = np.zeros_like(self.b)\n",
    "        \n",
    "    def update(self, eta):\n",
    "        self.w -= eta * self.grad_w\n",
    "        self.v -= eta * self.grad_v\n",
    "        self.b -= eta * self.grad_b\n",
    "\n",
    "class OutputLayer:\n",
    "    def __init__(self, n_upper, n):\n",
    "        self.w = np.random.randn(n_upper, n) / np.sqrt(n_upper)\n",
    "        self.b = np.zeros(n)\n",
    "        \n",
    "    def forward(self, x):\n",
    "        self.x = x\n",
    "        u = np.dot(x, self.w) + self.b\n",
    "        self.y = u\n",
    "    \n",
    "    def backward(self, t):\n",
    "        delta = self.y - t\n",
    "        \n",
    "        self.grad_w = np.dot(self.x.T, delta)\n",
    "        self.grad_b = np.sum(delta, axis=0)\n",
    "        self.grad_x = np.dot(delta, self.w.T)\n",
    "        \n",
    "    def update(self, eta):\n",
    "        self.w -= eta * self.grad_w\n",
    "        self.b -= eta * self.grad_b"
   ]
  },
  {
   "cell_type": "code",
   "execution_count": 6,
   "metadata": {
    "id": "WOHjvV6ZWRol"
   },
   "outputs": [],
   "source": [
    "lstm_layer = LSTMLayer(n_in, n_mid)\n",
    "output_layer = OutputLayer(n_mid, n_out)"
   ]
  },
  {
   "cell_type": "code",
   "execution_count": 7,
   "metadata": {
    "id": "lT-WTeR5WRol"
   },
   "outputs": [],
   "source": [
    "def train(x_mb, t_mb):\n",
    "    y_rnn = np.zeros((len(x_mb), n_time + 1, n_mid))\n",
    "    c_rnn = np.zeros((len(x_mb), n_time + 1, n_mid))\n",
    "    gates_rnn = np.zeros((4, len(x_mb), n_time, n_mid))\n",
    "    y_prev = y_rnn[:, 0, :]\n",
    "    c_prev = c_rnn[:, 0, :]\n",
    "    for i in range(n_time):\n",
    "        x = x_mb[:, i, :]\n",
    "        \n",
    "        lstm_layer.forward(x, y_prev, c_prev)\n",
    "        \n",
    "        y = lstm_layer.y\n",
    "        y_rnn[:, i + 1, :] = y\n",
    "        y_prev = y\n",
    "        \n",
    "        c = lstm_layer.c\n",
    "        c_rnn[:, i + 1, :] = c\n",
    "        c_prev = c\n",
    "        \n",
    "        gates = lstm_layer.gates\n",
    "        gates_rnn[:, :, i, :] = gates\n",
    "    \n",
    "    output_layer.forward(y)\n",
    "    output_layer.backward(t_mb)\n",
    "    grad_y = output_layer.grad_x\n",
    "    grad_c = np.zeros_like(lstm_layer.c)\n",
    "    \n",
    "    lstm_layer.reset_sum_grad()\n",
    "    for i in reversed(range(n_time)):\n",
    "        x = x_mb[:, i, :]\n",
    "        y = y_rnn[:, i + 1, :]\n",
    "        c = c_rnn[:, i + 1, :]\n",
    "        y_prev = y_rnn[:, i, :]\n",
    "        c_prev = c_rnn[:, i, :]\n",
    "        gates = gates_rnn[:, :, i, :]\n",
    "        \n",
    "        lstm_layer.backward(x, y, c, y_prev, c_prev, gates, grad_y, grad_c)\n",
    "        grad_y = lstm_layer.grad_y_prev\n",
    "        grad_c = lstm_layer.grad_c_prev\n",
    "    \n",
    "    lstm_layer.update(eta)\n",
    "    output_layer.update(eta)\n",
    "    \n",
    "def predict(x_mb):\n",
    "    y_prev = np.zeros((len(x_mb), n_mid))\n",
    "    c_prev = np.zeros((len(x_mb), n_mid))\n",
    "    for i in range(n_time):\n",
    "        x = x_mb[:, i, :]\n",
    "        lstm_layer.forward(x, y_prev, c_prev)\n",
    "        y = lstm_layer.y\n",
    "        y_prev = y\n",
    "        c = lstm_layer.c\n",
    "        c_prev = c\n",
    "    \n",
    "    output_layer.forward(y)\n",
    "    return output_layer.y\n",
    "\n",
    "def get_error(x, t):\n",
    "    y = predict(x)\n",
    "    return 1.0 / 2.0 * np.sum(np.square(y - t)) # MSE"
   ]
  },
  {
   "cell_type": "code",
   "execution_count": 8,
   "metadata": {
    "colab": {
     "base_uri": "https://localhost:8080/",
     "height": 1000
    },
    "executionInfo": {
     "elapsed": 3408,
     "status": "ok",
     "timestamp": 1626674476875,
     "user": {
      "displayName": "‍유지훈[ 학부재학 / 컴퓨터학과 ]",
      "photoUrl": "",
      "userId": "02271279893949387411"
     },
     "user_tz": -540
    },
    "id": "XiE6Jb-2WRom",
    "outputId": "05381218-dab3-4d2d-c319-9d63ba261f62",
    "scrolled": true
   },
   "outputs": [
    {
     "name": "stdout",
     "output_type": "stream",
     "text": [
      "Epoch:1/101 Error:7.256855213717987\n"
     ]
    },
    {
     "data": {
      "image/png": "[encoded data removed]",
      "text/plain": [
       "<Figure size 432x288 with 1 Axes>"
      ]
     },
     "metadata": {
      "needs_background": "light"
     },
     "output_type": "display_data"
    },
    {
     "name": "stdout",
     "output_type": "stream",
     "text": [
      "Epoch:11/101 Error:3.1602753794443483\n"
     ]
    },
    {
     "data": {
      "image/png": "[encoded data removed]",
      "text/plain": [
       "<Figure size 432x288 with 1 Axes>"
      ]
     },
     "metadata": {
      "needs_background": "light"
     },
     "output_type": "display_data"
    },
    {
     "name": "stdout",
     "output_type": "stream",
     "text": [
      "Epoch:21/101 Error:2.132403813557328\n"
     ]
    },
    {
     "data": {
      "image/png": "[encoded data removed]",
      "text/plain": [
       "<Figure size 432x288 with 1 Axes>"
      ]
     },
     "metadata": {
      "needs_background": "light"
     },
     "output_type": "display_data"
    },
    {
     "name": "stdout",
     "output_type": "stream",
     "text": [
      "Epoch:31/101 Error:1.5392301501743688\n"
     ]
    },
    {
     "data": {
      "image/png": "[encoded data removed]",
      "text/plain": [
       "<Figure size 432x288 with 1 Axes>"
      ]
     },
     "metadata": {
      "needs_background": "light"
     },
     "output_type": "display_data"
    },
    {
     "name": "stdout",
     "output_type": "stream",
     "text": [
      "Epoch:41/101 Error:1.02381188027131\n"
     ]
    },
    {
     "data": {
      "image/png": "[encoded data removed]",
      "text/plain": [
       "<Figure size 432x288 with 1 Axes>"
      ]
     },
     "metadata": {
      "needs_background": "light"
     },
     "output_type": "display_data"
    },
    {
     "name": "stdout",
     "output_type": "stream",
     "text": [
      "Epoch:51/101 Error:0.6187614411474622\n"
     ]
    },
    {
     "data": {
      "image/png": "[encoded data removed]",
      "text/plain": [
       "<Figure size 432x288 with 1 Axes>"
      ]
     },
     "metadata": {
      "needs_background": "light"
     },
     "output_type": "display_data"
    },
    {
     "name": "stdout",
     "output_type": "stream",
     "text": [
      "Epoch:61/101 Error:0.3755624126396273\n"
     ]
    },
    {
     "data": {
      "image/png": "[encoded data removed]",
      "text/plain": [
       "<Figure size 432x288 with 1 Axes>"
      ]
     },
     "metadata": {
      "needs_background": "light"
     },
     "output_type": "display_data"
    },
    {
     "name": "stdout",
     "output_type": "stream",
     "text": [
      "Epoch:71/101 Error:0.2713722124045762\n"
     ]
    },
    {
     "data": {
      "image/png": "[encoded data removed]",
      "text/plain": [
       "<Figure size 432x288 with 1 Axes>"
      ]
     },
     "metadata": {
      "needs_background": "light"
     },
     "output_type": "display_data"
    },
    {
     "name": "stdout",
     "output_type": "stream",
     "text": [
      "Epoch:81/101 Error:0.23676712732767471\n"
     ]
    },
    {
     "data": {
      "image/png": "[encoded data removed]",
      "text/plain": [
       "<Figure size 432x288 with 1 Axes>"
      ]
     },
     "metadata": {
      "needs_background": "light"
     },
     "output_type": "display_data"
    },
    {
     "name": "stdout",
     "output_type": "stream",
     "text": [
      "Epoch:91/101 Error:0.22654116137928454\n"
     ]
    },
    {
     "data": {
      "image/png": "[encoded data removed]",
      "text/plain": [
       "<Figure size 432x288 with 1 Axes>"
      ]
     },
     "metadata": {
      "needs_background": "light"
     },
     "output_type": "display_data"
    },
    {
     "name": "stdout",
     "output_type": "stream",
     "text": [
      "Epoch:101/101 Error:0.22280828377979278\n"
     ]
    },
    {
     "data": {
      "image/png": "[encoded data removed]",
      "text/plain": [
       "<Figure size 432x288 with 1 Axes>"
      ]
     },
     "metadata": {
      "needs_background": "light"
     },
     "output_type": "display_data"
    },
    {
     "data": {
      "image/png": "[encoded data removed]",
      "text/plain": [
       "<Figure size 432x288 with 1 Axes>"
      ]
     },
     "metadata": {
      "needs_background": "light"
     },
     "output_type": "display_data"
    }
   ],
   "source": [
    "error_record = []\n",
    "n_batch = len(input_data) // batch_size\n",
    "for i in range(epochs):\n",
    "    \n",
    "    index_random = np.arange(len(input_data))\n",
    "    np.random.shuffle(index_random)\n",
    "    for j in range(n_batch):\n",
    "        mb_index = index_random[j * batch_size:(j + 1) * batch_size]\n",
    "        x_mb = input_data[mb_index, :]\n",
    "        t_mb = correct_data[mb_index, :]\n",
    "        train(x_mb, t_mb)\n",
    "    \n",
    "    error = get_error(input_data, correct_data)\n",
    "    error_record.append(error)\n",
    "    \n",
    "    if i % interval == 0:\n",
    "        print(\"Epoch:\" + str(i + 1) + \"/\" + str(epochs), \"Error:\" + str(error))\n",
    "        \n",
    "        predicted = input_data[0].reshape(-1).tolist()\n",
    "        for i in range(n_sample):\n",
    "            x = np.array(predicted[-n_time:]).reshape(1, n_time, 1)\n",
    "            y = predict(x)\n",
    "            predicted.append(float(y[0, 0]))\n",
    "            \n",
    "        plt.plot(range(len(sin_y)), sin_y.tolist(), label=\"Correct\")\n",
    "        plt.plot(range(len(predicted)), predicted, label=\"Predicted\")\n",
    "        plt.legend()\n",
    "        plt.show()\n",
    "        \n",
    "plt.plot(range(1, epochs + 1), error_record)\n",
    "plt.xlabel(\"Epochs\")\n",
    "plt.ylabel(\"Error\")\n",
    "plt.show()"
   ]
  },
  {
   "cell_type": "markdown",
   "metadata": {
    "id": "RCMGzvQbWRon"
   },
   "source": [
    "### Text Generation"
   ]
  },
  {
   "cell_type": "code",
   "execution_count": 9,
   "metadata": {
    "executionInfo": {
     "elapsed": 381,
     "status": "ok",
     "timestamp": 1626678320198,
     "user": {
      "displayName": "‍유지훈[ 학부재학 / 컴퓨터학과 ]",
      "photoUrl": "",
      "userId": "02271279893949387411"
     },
     "user_tz": -540
    },
    "id": "nu49cftXWRon"
   },
   "outputs": [],
   "source": [
    "# import numpy as np\n",
    "import cupy as np\n",
    "import matplotlib.pyplot as plt"
   ]
  },
  {
   "cell_type": "code",
   "execution_count": 10,
   "metadata": {
    "executionInfo": {
     "elapsed": 5,
     "status": "ok",
     "timestamp": 1626678321198,
     "user": {
      "displayName": "‍유지훈[ 학부재학 / 컴퓨터학과 ]",
      "photoUrl": "",
      "userId": "02271279893949387411"
     },
     "user_tz": -540
    },
    "id": "rrTav4TQWRoo"
   },
   "outputs": [],
   "source": [
    "n_time = 20\n",
    "n_mid = 128\n",
    "\n",
    "eta = 0.01\n",
    "clip_const = 0.02\n",
    "beta = 2 # probability distribution adjustment constant\n",
    "epochs = 50\n",
    "batch_size = 128"
   ]
  },
  {
   "cell_type": "code",
   "execution_count": 11,
   "metadata": {
    "executionInfo": {
     "elapsed": 4,
     "status": "ok",
     "timestamp": 1626678322503,
     "user": {
      "displayName": "‍유지훈[ 학부재학 / 컴퓨터학과 ]",
      "photoUrl": "",
      "userId": "02271279893949387411"
     },
     "user_tz": -540
    },
    "id": "LznpT0ktWRoo"
   },
   "outputs": [],
   "source": [
    "def sigmoid(x):\n",
    "    return 1 / (1 + np.exp(-x))"
   ]
  },
  {
   "cell_type": "code",
   "execution_count": 12,
   "metadata": {
    "executionInfo": {
     "elapsed": 4,
     "status": "ok",
     "timestamp": 1626678323062,
     "user": {
      "displayName": "‍유지훈[ 학부재학 / 컴퓨터학과 ]",
      "photoUrl": "",
      "userId": "02271279893949387411"
     },
     "user_tz": -540
    },
    "id": "28loyd9lWRoo"
   },
   "outputs": [],
   "source": [
    "def clip_grad(grads, max_norm):\n",
    "    norm = np.sqrt(np.sum(grads * grads))\n",
    "    r = max_norm / norm\n",
    "    if r < 1:\n",
    "        clipped_grads = grads * r\n",
    "    else:\n",
    "        clipped_grads = grads\n",
    "    return clipped_grads"
   ]
  },
  {
   "cell_type": "code",
   "execution_count": 13,
   "metadata": {
    "colab": {
     "base_uri": "https://localhost:8080/",
     "height": 0
    },
    "executionInfo": {
     "elapsed": 921,
     "status": "ok",
     "timestamp": 1626675095549,
     "user": {
      "displayName": "‍유지훈[ 학부재학 / 컴퓨터학과 ]",
      "photoUrl": "",
      "userId": "02271279893949387411"
     },
     "user_tz": -540
    },
    "id": "EIG610NnWRoo",
    "outputId": "06f9a4a4-cdd2-48c6-a9ff-9ab06b11b319"
   },
   "outputs": [
    {
     "name": "stdout",
     "output_type": "stream",
     "text": [
      "# of characters: 60322\n"
     ]
    }
   ],
   "source": [
    "# load training data\n",
    "with open(\"data/lstm_text/human_problem.txt\", mode=\"r\", encoding=\"utf-8-sig\") as f:\n",
    "    text = f.read()\n",
    "print(\"# of characters:\", len(text))"
   ]
  },
  {
   "cell_type": "code",
   "execution_count": 14,
   "metadata": {
    "colab": {
     "base_uri": "https://localhost:8080/"
    },
    "executionInfo": {
     "elapsed": 279,
     "status": "ok",
     "timestamp": 1626678325700,
     "user": {
      "displayName": "‍유지훈[ 학부재학 / 컴퓨터학과 ]",
      "photoUrl": "",
      "userId": "02271279893949387411"
     },
     "user_tz": -540
    },
    "id": "CzUbhIl2WRoo",
    "outputId": "3aef1b77-07e9-4732-8f39-cec7ab98bd9f"
   },
   "outputs": [
    {
     "name": "stdout",
     "output_type": "stream",
     "text": [
      "# of characters without duplication: 980\n"
     ]
    }
   ],
   "source": [
    "chars_list = sorted(list(set(text)))\n",
    "n_chars = len(chars_list)\n",
    "print(\"# of characters without duplication:\", n_chars)\n",
    "\n",
    "# integar encoding\n",
    "char_to_index = {}\n",
    "index_to_char = {}\n",
    "for i, char in enumerate(chars_list):\n",
    "    char_to_index[char] = i\n",
    "    index_to_char[i] = char"
   ]
  },
  {
   "cell_type": "code",
   "execution_count": 15,
   "metadata": {
    "executionInfo": {
     "elapsed": 13013,
     "status": "ok",
     "timestamp": 1626678384298,
     "user": {
      "displayName": "‍유지훈[ 학부재학 / 컴퓨터학과 ]",
      "photoUrl": "",
      "userId": "02271279893949387411"
     },
     "user_tz": -540
    },
    "id": "JtipN-v2WRop"
   },
   "outputs": [],
   "source": [
    "# make time series data\n",
    "seq_chars = []\n",
    "next_chars = []\n",
    "for i in range(len(text) - n_time):\n",
    "    seq_chars.append(text[i:i + n_time])\n",
    "    next_chars.append(text[i + n_time])\n",
    "\n",
    "# one-hot encoding input and correct\n",
    "input_data = np.zeros((len(seq_chars), n_time, n_chars), dtype=np.bool_)\n",
    "correct_data = np.zeros((len(seq_chars), n_chars), dtype=np.bool_)\n",
    "for i, chars in enumerate(seq_chars):\n",
    "    correct_data[i, char_to_index[next_chars[i]]] = 1\n",
    "    for j, char in enumerate(chars):\n",
    "        input_data[i, j, char_to_index[char]] = 1"
   ]
  },
  {
   "cell_type": "code",
   "execution_count": 61,
   "metadata": {
    "executionInfo": {
     "elapsed": 255,
     "status": "ok",
     "timestamp": 1626678495274,
     "user": {
      "displayName": "‍유지훈[ 학부재학 / 컴퓨터학과 ]",
      "photoUrl": "",
      "userId": "02271279893949387411"
     },
     "user_tz": -540
    },
    "id": "XmXYqpXRWRop"
   },
   "outputs": [],
   "source": [
    "class LSTMLayer:\n",
    "    def __init__(self, n_upper, n):\n",
    "        self.w = np.random.randn(4, n_upper, n) / np.sqrt(n) # Xavier init\n",
    "        self.v = np.random.randn(4, n, n) / np.sqrt(n)\n",
    "        self.b = np.zeros((4, n))\n",
    "        \n",
    "    def forward(self, x, y_prev, c_prev):\n",
    "        u = np.matmul(x, self.w) + np.matmul(y_prev, self.v) + self.b.reshape(4, 1, -1)\n",
    "        \n",
    "        a0 = sigmoid(u[0])\n",
    "        a1 = sigmoid(u[1])\n",
    "        a2 = np.tanh(u[2])\n",
    "        a3 = sigmoid(u[3])\n",
    "        self.gates = np.stack((a0, a1, a2, a3))\n",
    "        \n",
    "        self.c = a0 * c_prev + a1 * a2\n",
    "        self.y = a3 * np.tanh(self.c)\n",
    "        \n",
    "    def backward(self, x, y, c, y_prev, c_prev, gates, grad_y, grad_c):\n",
    "        a0, a1, a2, a3 = gates\n",
    "        tanh_c = np.tanh(c)\n",
    "        r = grad_c + grad_y * a3 * (1 - tanh_c ** 2)\n",
    "        \n",
    "        delta0 = r * c_prev * a0 * (1 - a0)\n",
    "        delta1 = r * a2 * a1 * (1 - a1)\n",
    "        delta2 = r * a1 * (1 - a2 ** 2)\n",
    "        delta3 = grad_y * tanh_c * a3 * (1 - a3)\n",
    "        \n",
    "        deltas = np.stack((delta0, delta1, delta2, delta3))\n",
    "        \n",
    "        self.grad_w += np.matmul(x.T, deltas)\n",
    "        self.grad_v += np.matmul(y_prev.T, deltas)\n",
    "        self.grad_b += np.sum(deltas, axis=1)\n",
    "        \n",
    "        grad_x = np.matmul(deltas, self.w.transpose(0, 2, 1))\n",
    "        self.grad_x = np.sum(grad_x, axis=0)\n",
    "        \n",
    "        grad_y_prev = np.matmul(deltas, self.v.transpose(0, 2, 1))\n",
    "        self.grad_y_prev = np.sum(grad_y_prev, axis=0)\n",
    "        \n",
    "        self.grad_c_prev = r * a0\n",
    "        \n",
    "    def reset_sum_grad(self):\n",
    "        self.grad_w = np.zeros_like(self.w)\n",
    "        self.grad_v = np.zeros_like(self.v)\n",
    "        self.grad_b = np.zeros_like(self.b)\n",
    "        \n",
    "    def update(self, eta):\n",
    "        self.w -= eta * self.grad_w\n",
    "        self.v -= eta * self.grad_v\n",
    "        self.b -= eta * self.grad_b\n",
    "        \n",
    "    def clip_grads(self, clip_const):\n",
    "        self.grad_w = clip_grad(self.grad_w, clip_const * np.sqrt(self.grad_w.size))\n",
    "        self.grad_v = clip_grad(self.grad_v, clip_const * np.sqrt(self.grad_v.size))\n",
    "\n",
    "class OutputLayer:\n",
    "    def __init__(self, n_upper, n):\n",
    "        self.w = np.random.randn(n_upper, n) / np.sqrt(n_upper)\n",
    "        self.b = np.zeros(n)\n",
    "        \n",
    "    def forward(self, x):\n",
    "        self.x = x\n",
    "        u = np.dot(x, self.w) + self.b\n",
    "        self.y = np.exp(u) / np.sum(np.exp(u), axis=1).reshape(-1, 1) # softmax\n",
    "    \n",
    "    def backward(self, t):\n",
    "        delta = self.y - t\n",
    "        \n",
    "        self.grad_w = np.dot(self.x.T, delta)\n",
    "        self.grad_b = np.sum(delta, axis=0)\n",
    "        self.grad_x = np.dot(delta, self.w.T)\n",
    "        \n",
    "    def update(self, eta):\n",
    "        self.w -= eta * self.grad_w\n",
    "        self.b -= eta * self.grad_b"
   ]
  },
  {
   "cell_type": "code",
   "execution_count": 16,
   "metadata": {
    "executionInfo": {
     "elapsed": 663,
     "status": "ok",
     "timestamp": 1626678499733,
     "user": {
      "displayName": "‍유지훈[ 학부재학 / 컴퓨터학과 ]",
      "photoUrl": "",
      "userId": "02271279893949387411"
     },
     "user_tz": -540
    },
    "id": "JD8_PKxkWRop"
   },
   "outputs": [],
   "source": [
    "lstm_layer = LSTMLayer(n_chars, n_mid)\n",
    "output_layer = OutputLayer(n_mid, n_chars)"
   ]
  },
  {
   "cell_type": "code",
   "execution_count": 17,
   "metadata": {
    "executionInfo": {
     "elapsed": 2,
     "status": "ok",
     "timestamp": 1626678397704,
     "user": {
      "displayName": "‍유지훈[ 학부재학 / 컴퓨터학과 ]",
      "photoUrl": "",
      "userId": "02271279893949387411"
     },
     "user_tz": -540
    },
    "id": "AF-nJfpFWRop"
   },
   "outputs": [],
   "source": [
    "def train(x_mb, t_mb):\n",
    "    y_rnn = np.zeros((len(x_mb), n_time + 1, n_mid))\n",
    "    c_rnn = np.zeros((len(x_mb), n_time + 1, n_mid))\n",
    "    gates_rnn = np.zeros((4, len(x_mb), n_time, n_mid))\n",
    "    y_prev = y_rnn[:, 0, :]\n",
    "    c_prev = c_rnn[:, 0, :]\n",
    "    for i in range(n_time):\n",
    "        x = x_mb[:, i, :]\n",
    "        lstm_layer.forward(x, y_prev, c_prev)\n",
    "        \n",
    "        y = lstm_layer.y\n",
    "        y_rnn[:, i + 1, :] = y\n",
    "        y_prev = y\n",
    "        \n",
    "        c = lstm_layer.c\n",
    "        c_rnn[:, i + 1, :] = c\n",
    "        c_prev = c\n",
    "        \n",
    "        gates = lstm_layer.gates\n",
    "        gates_rnn[:, :, i, :] = gates\n",
    "    \n",
    "    output_layer.forward(y)\n",
    "    \n",
    "    output_layer.backward(t_mb)\n",
    "    grad_y = output_layer.grad_x\n",
    "    grad_c = np.zeros_like(lstm_layer.c)\n",
    "    \n",
    "    lstm_layer.reset_sum_grad()\n",
    "    for i in reversed(range(n_time)):\n",
    "        x = x_mb[:, i, :]\n",
    "        y = y_rnn[:, i + 1, :]\n",
    "        c = c_rnn[:, i + 1, :]\n",
    "        y_prev = y_rnn[:, i, :]\n",
    "        c_prev = c_rnn[:, i, :]\n",
    "        gates = gates_rnn[:, :, i, :]\n",
    "        \n",
    "        lstm_layer.backward(x, y, c, y_prev, c_prev, gates, grad_y, grad_c)\n",
    "        grad_y = lstm_layer.grad_y_prev\n",
    "        grad_c = lstm_layer.grad_c_prev\n",
    "    \n",
    "    lstm_layer.clip_grads(clip_const)\n",
    "    lstm_layer.update(eta)\n",
    "    output_layer.update(eta)\n",
    "    \n",
    "def predict(x_mb):\n",
    "    y_prev = np.zeros((len(x_mb), n_mid))\n",
    "    c_prev = np.zeros((len(x_mb), n_mid))\n",
    "    for i in range(n_time):\n",
    "        x = x_mb[:, i, :]\n",
    "        lstm_layer.forward(x, y_prev, c_prev)\n",
    "        y = lstm_layer.y\n",
    "        y_prev = y\n",
    "        c = lstm_layer.c\n",
    "        c_prev = c\n",
    "        \n",
    "    output_layer.forward(y)\n",
    "    return output_layer.y\n",
    "\n",
    "def get_error(x, t):\n",
    "    limit = 1000\n",
    "    if len(x) > limit:\n",
    "        index_random = np.arange(len(x))\n",
    "        np.random.shuffle(index_random)\n",
    "        x = x[index_random[:limit], :]\n",
    "        t = t[index_random[:limit], :]\n",
    "    y = predict(x)\n",
    "    return -np.sum(t * np.log(y + 1e-7)) / batch_size # cross_entropy"
   ]
  },
  {
   "cell_type": "code",
   "execution_count": 18,
   "metadata": {
    "executionInfo": {
     "elapsed": 862,
     "status": "ok",
     "timestamp": 1626678507477,
     "user": {
      "displayName": "‍유지훈[ 학부재학 / 컴퓨터학과 ]",
      "photoUrl": "",
      "userId": "02271279893949387411"
     },
     "user_tz": -540
    },
    "id": "lTkseNOSWRop"
   },
   "outputs": [],
   "source": [
    "def create_text():\n",
    "    prev_text = text[0:n_time]\n",
    "    created_text = prev_text\n",
    "    print(\"Seed:\", created_text)\n",
    "    for i in range(200):\n",
    "        x = np.zeros((1, n_time, n_chars))\n",
    "        for j, char in enumerate(prev_text):\n",
    "            x[0, j, char_to_index[char]] = 1\n",
    "        \n",
    "        y = predict(x)\n",
    "        p = y[0] ** beta # Probability distribution adjustment\n",
    "        p /= np.sum(p) # Make the sum of p equal to 1\n",
    "        next_index = np.random.choice(len(p), size=1, p=p) # randomly choose next character\n",
    "        next_char = index_to_char[int(next_index[0])]\n",
    "        created_text += next_char\n",
    "        prev_text = prev_text[1:] + next_char # next input\n",
    "        \n",
    "    print(created_text)\n",
    "    print()"
   ]
  },
  {
   "cell_type": "code",
   "execution_count": 47,
   "metadata": {
    "colab": {
     "base_uri": "https://localhost:8080/",
     "height": 6419
    },
    "executionInfo": {
     "elapsed": 1889685,
     "status": "ok",
     "timestamp": 1626677157131,
     "user": {
      "displayName": "‍유지훈[ 학부재학 / 컴퓨터학과 ]",
      "photoUrl": "",
      "userId": "02271279893949387411"
     },
     "user_tz": -540
    },
    "id": "BoBbq3QPWRoq",
    "outputId": "b3ec7905-427d-4659-a0cc-f3a07fc728ef"
   },
   "outputs": [
    {
     "name": "stdout",
     "output_type": "stream",
     "text": [
      "Epoch: 1/50 471/471 Error: 27.05142770186471\n",
      "Seed: 이 산등에 올라서면 용연 동네는 저렇\n",
      "이 산등에 올라서면 용연 동네는 저렇는 선비의 이 없의 아 있는 것 어머니는 바 같을 말이 나째다.\n",
      "이서 어머니는 아이 하니 나 말을 바라서 어머니는 아이 나 가어머니.\n",
      "이 그래 어머니가 선비 어머니 말은 그리고 부어 들어 것을 바라 없어 서 어머니를 것이 선비를 있어서 것을 어머니를 무 같이 못 방은 물이 마어서 아이, 선비는 선비를 들어가 것이 그는 어머니가 그는 것이 소리를 왔다.\n",
      "덕호\n",
      "\n",
      "Epoch: 2/50 471/471 Error: 26.303636176767917\n",
      "Seed: 이 산등에 올라서면 용연 동네는 저렇\n",
      "이 산등에 올라서면 용연 동네는 저렇게 나고 하고 선비는 생각을 다고 않는 아늘히 하여 보았다. 그리고 자음이 않는다. \n",
      "그 어머니는 말을 다시 그는 새지 그는 자시 보았다. 그리고 모어 돌어왔다. 그는 그리고 돌어보며 가는다. 이 해 어머니는 옥점이를 하고 나가 그들은 다 어머니는 자아 가 가는 나서 들어 보고 않는 것을 그 집어 않는 것을 같았다. 그리고 자리를 들었다. 그는 방이 다가 \n",
      "\n",
      "Epoch: 3/50 471/471 Error: 25.783618829876982\n",
      "Seed: 이 산등에 올라서면 용연 동네는 저렇\n",
      "이 산등에 올라서면 용연 동네는 저렇게 하고 않는 것을 다시 못어 들어 다고 다니 뭐 나서 없이 않았다.\n",
      "그는 얼굴이 없이 그의 무각을 하고 고 없었다.\n",
      "그는 이 없어 돌아 다고 일어나며 그런 이렇게 하였다.\n",
      "그러나 어머니 해 선비가 어디 있다.\n",
      "어머니는 무쨍 소리에 않고 나오는 것이 벌아 가지야 하였다. \n",
      "그는 신철이는 말을 바라보며 선비를 하고 나온다.\n",
      "그러나 어머니 지두 왔다.\n",
      "이 방에\n",
      "\n",
      "Epoch: 4/50 471/471 Error: 24.287234359487847\n",
      "Seed: 이 산등에 올라서면 용연 동네는 저렇\n",
      "이 산등에 올라서면 용연 동네는 저렇게 나무다리는 것이다. \n",
      "그러나 그는 머리를 다시 들어가지 않는 것을 다가 가슴히 들어가는 것이다. 그리고 나무 소리를 보는 선비를 보는 소리에 이서방은 가슴을 다가 그는 눈에 말을 다보니 그의 눈을 바라보았다. 그리고 이제 나무라는 것이다. 그는 어머니는 길에 가슴을 들어 나왔다. 그리고 이금 말하였다.\n",
      "선비는 머리를 가슴을 다시며 이렇게 일어나 나무다리\n",
      "\n",
      "Epoch: 5/50 471/471 Error: 22.937017780176824\n",
      "Seed: 이 산등에 올라서면 용연 동네는 저렇\n",
      "이 산등에 올라서면 용연 동네는 저렇게 하여 나오다. 그리고 이리 일어가는 것을 보았다.\n",
      "그는 어머니 어머니는 선비를 들었다.\n",
      "그들은 아니 머리를 바라보았다.\n",
      "조시 말이 선비는 것을 바라보며 아무다가 나린다. 그리고 어머니를 돌아하고 나왔다. 옥점이는 얼굴을 몸을 보고 주고 말았다. \n",
      "그는 어머니를 아니 수었다. 그는 어머니는 아무 어머니는 손을 물리며 그는 물을 일어 들었다.\n",
      "옥점이는 벌여\n",
      "\n",
      "Epoch: 6/50 471/471 Error: 22.49465595119931\n",
      "Seed: 이 산등에 올라서면 용연 동네는 저렇\n",
      "이 산등에 올라서면 용연 동네는 저렇게 주인 그리 이 나무다리는 하였다.\n",
      "이 벌자 가지 않고 누가 그게 어머니의 아무 생각하였다.\n",
      "그는 어머니의 얼굴을 하는 것을 보기는 모양이 무슨 생각을 하고 눈을 때는 그의 한참이나 나가 살게 있는 것을 보았다. 그는 얼굴로 붙어 보았다.\n",
      "그는 어머니의 얼굴을 바라보았다. 그는 일어나가 우리 못하여 하는 것을 보았다.\n",
      "그는 이 방을 들어 보았으면 그의 바\n",
      "\n",
      "Epoch: 7/50 471/471 Error: 21.64873536189486\n",
      "Seed: 이 산등에 올라서면 용연 동네는 저렇\n",
      "이 산등에 올라서면 용연 동네는 저렇게 말이다. 그래서 그가 어떻게 그 이 나오는 것이 바라보니 말을 하고 일어나며 이 집에 오는 것이 있다. 선비는 물을 바라보았다. 그는 무심히 일 일었다. 그리고 그는 어머니 빨 앞으로 나서 그의 손으로 나오니 이 집에 보지고 못 버렸다. 그리고 그의 음을 물러 들어가 한 쓰으로 하고 울었다. 그래서 그는 눈 그 가지 못하고 나무다리를 그 먹지 않는 것이\n",
      "\n",
      "Epoch: 8/50 471/471 Error: 21.790963775486453\n",
      "Seed: 이 산등에 올라서면 용연 동네는 저렇\n",
      "이 산등에 올라서면 용연 동네는 저렇게 하게 일어나다. 그는 어머니의 눈을 가지고 나오는 것을 보니 가슴이 있다. \n",
      "그리고 그의 어머니의 눈에 어머니를 바라보며 옥점의 머리를 들어 보며 그의 머리를 받아 보며 못하였다. 그는 어떻게 말하였다.\n",
      "아무 그래서 일어나 가지 그게 어머니의 그의 어머니가 그의 어머니 옥점의 손을 가지고 왔다. 그리고 그의 어머니는 손을 비 하고 마린다. 그리고 일을 \n",
      "\n",
      "Epoch: 9/50 471/471 Error: 20.960171783487567\n",
      "Seed: 이 산등에 올라서면 용연 동네는 저렇\n",
      "이 산등에 올라서면 용연 동네는 저렇게 하여 하는 소리가 나오다. 그리고 그는 머리를 들어 보았다. 그는 이편을 생각하며 이렇게 말하였다. 그리고 문 듯이 아니 하여 같은 것이 차서 일 가지지 않는가? 하는 일어나서 그의 눈을 받아 있고 무슨 생각을 하였다. 그리고 그리고 사람이 들어가 가슴이 무슨 말을 하고 한참이나 나왔다. 그리고 그의 눈가는 이런 소리가 가지 않았다. 그는 이렇게 말하였\n",
      "\n",
      "Epoch: 10/50 471/471 Error: 21.05796319376723\n",
      "Seed: 이 산등에 올라서면 용연 동네는 저렇\n",
      "이 산등에 올라서면 용연 동네는 저렇게 물을 지나 내려 주었다. 이서방은 물에 보기가 그의 어머니 말을 자기 없는 것을 보았다.\n",
      "이서방은 그는 무심히 나무다리를 들어가며 그의 어머니의 뒤를 돌아보았다.\n",
      "선비는 이렇게 말을 하고 하였다. 그는 어머니를 바라보며 이서방은 한 집에 이렇게 나무다리는 자기가 이 집에 들어가며 이렇게 말을 하고 생각하였다.\n",
      "그래서 그는 눈을 벗어 놓고 이렇게 말하였다\n",
      "\n",
      "Epoch: 11/50 471/471 Error: 20.18991592919415\n",
      "Seed: 이 산등에 올라서면 용연 동네는 저렇\n",
      "이 산등에 올라서면 용연 동네는 저렇게 얼핏 가지를 않았다. 그리고 이리로 못하고 않고 나왔다. 그는 그의 손에서 자기를 조금 들여다보았다. 그리고 문을 가지고 싶었다. 그리고 그는 아랫가 없이 가서 수를 다고 가지 않으면 하는 말을 다 하고 나온다. 그리고 그는 눈을 가지고 돌아보았다. 그는 무심히 이서방 그들은 불대로 이서방으로 가서 이서방을 다시며 문을 간다. 그리고 그 아무 거가 있다\n",
      "\n",
      "Epoch: 12/50 471/471 Error: 19.687942798765377\n",
      "Seed: 이 산등에 올라서면 용연 동네는 저렇\n",
      "이 산등에 올라서면 용연 동네는 저렇게 지화에게 대하여 오는 것이 없었다. 그리고 그는 눈을 돌아보았다.\n",
      "그는 눈을 치다고 물을 놓고 그는 사람이 없다. \n",
      "그리고 그는 머리를 꾹 하며 무심히 들고 말을 하다가 그는 아무 없이 한참이나 생각하였다. 그리고 그는 머리를 들어 하는가 하였다. 그리고 이 문을 실어치며 이렇게 하는 것을 보았다.\n",
      "그리고 아버지도 이 집에는 지른을 하는 것을 보지 않으\n",
      "\n",
      "Epoch: 13/50 471/471 Error: 18.72288893979181\n",
      "Seed: 이 산등에 올라서면 용연 동네는 저렇\n",
      "이 산등에 올라서면 용연 동네는 저렇게 하여 가슴은 그의 어머니 어머니 그는 눈을 들어 놓고 나오는 듯하더니, 어떻게 이 모양을 이 어디서 나서 그런 물러 가지고 나오는 듯하였다.\n",
      "그는 이서방은 이런 생각 보았니.\n",
      "어머니 그 돈을 다우리 수 있다. 그는 무슨 생각을 하고 들어갔다.\n",
      "어머니, 이 사람이 어서 땀 자네? 그럼 얼핏 아이라 나오는 것 같았다.\n",
      "그러구 가지고 그 집에 가지고 물어서 \n",
      "\n",
      "Epoch: 14/50 471/471 Error: 18.87497380333608\n",
      "Seed: 이 산등에 올라서면 용연 동네는 저렇\n",
      "이 산등에 올라서면 용연 동네는 저렇게 하고 부엌으로 들어왔다.\n",
      "이 자식아 주저 이런 말이 어디 있었다. 그는 머리를 부르르 들여다보았다. 그래서 그의 어머니는 벌컥 일어났다. 그리고 이렇게 말하는 이렇게 말하였다. 그러나 이 동네는 것을 보고 이렇게 말하면서 그의 눈을 돌아보며,\n",
      "아니 방 원소리는 소리가 들었다. 그의 어머니는 얼굴나 이서방은 바라보았다. 그는 나무꾼애는 이불으로 왔다. 그\n",
      "\n",
      "Epoch: 15/50 471/471 Error: 18.141675276280523\n",
      "Seed: 이 산등에 올라서면 용연 동네는 저렇\n",
      "이 산등에 올라서면 용연 동네는 저렇게 놀린다. 그는 이 집에 물러앉으며 어디 소리가 그 자기의 손을 바라보며 이렇게 중얼거리며 그의 얼굴을 바라보았다. 그리고 한숨을 열었다. 그리고 이 집에 선비의 얼굴을 바라보며 이렇게 말하며 수다. 그리고 선비와 이 안을 바라보았다. 그는 이렇게 생각하며 이 방문을 푹 쉬었다. 그는 이렇게 말을 하는 소리가 들었다. 그리고 선비의 얼굴을 다시 한 후 더\n",
      "\n",
      "Epoch: 16/50 471/471 Error: 17.958532523290174\n",
      "Seed: 이 산등에 올라서면 용연 동네는 저렇\n",
      "이 산등에 올라서면 용연 동네는 저렇게 말하면 이렇게 말하였다. 그리고 무슨 말을 물 방문을 시르고 생각하였다.\n",
      "이거 아요, 뭐야 내가 우리 자리가 걸었다.\n",
      "할멈은 선비가 아침까지 마주 주저 물러앉았다. \n",
      "그러나 그것은 얼굴이 아프지 않고 나무다리를 지르르 하였다. 그리고 덕호가 하고 그는 모양을 바라 보고 아버지 좋을 때 이렇게 말하면 이 집에 걸음인가 하는 줄 방문이 열리에 푹타하였다. \n",
      "\n",
      "Epoch: 17/50 471/471 Error: 18.834535059192746\n",
      "Seed: 이 산등에 올라서면 용연 동네는 저렇\n",
      "이 산등에 올라서면 용연 동네는 저렇게 생각하였다. 그리고 그의 어머니는 그는 어떤 것을 보았다. 그리고 그의 어머니는 얼굴이 나서 그의 손을 가리고 있는 것을 이며 그렇게 중얼거리며 그의 어머니는 그는 눈을 앞고 부시로 가리고 와서 일어나 이 방문을 쳐다본다.\n",
      "그의 어머니는 바라보았다.\n",
      "아니 거 나오시우?\n",
      "옥점이는 얼굴을 가슴을 열리며 그는 의심히 빨리를 번쩍 들어가다.\n",
      "이서방! 이애!\n",
      "그\n",
      "\n",
      "Epoch: 18/50 471/471 Error: 17.704288588176652\n",
      "Seed: 이 산등에 올라서면 용연 동네는 저렇\n",
      "이 산등에 올라서면 용연 동네는 저렇게 말하다.\n",
      "그는 무의식간에 그는 눈을 감고 부엌으로 들어왔다. 그리고 지금 가자고 하는 것이 그의 집이다.\n",
      "그러나 그것은 마루 가서 못하고 있다.\n",
      "이서방이 그는 어머니가 하려다가 그만 고안방을 돌아보았다. 옥점이는 어머니의 얼굴을 보며 옥점의 앞으로 다가서며 그의 눈을 가지고 있어가 가는 것이다.\n",
      "덕호는 눈을 부르고 조며 안방으로 들어가며 그의 어머니의 \n",
      "\n",
      "Epoch: 19/50 471/471 Error: 18.119339962803032\n",
      "Seed: 이 산등에 올라서면 용연 동네는 저렇\n",
      "이 산등에 올라서면 용연 동네는 저렇게 자리를 꿀아 보려다보았다. 그러나 그는 머리를 볼이 웃을 바라보았다.\n",
      "왜 이서방 말을 하니, 이렇게 자기의 말을 하는 소리가 나므며 다그리며 선비를 보았다. 그리고 무슨 생각을 하였다.\n",
      "그리고 이렇게 말하며 그의 손을 조금 물러앉으며 아무 불은 없이 그의 이 나무다리를 바라보며 이렇게 말하였다. \n",
      "그는 무엇을 불간 보았다.\n",
      "그는 이서방을 얼핏 보았다.\n",
      "\n",
      "\n",
      "Epoch: 20/50 471/471 Error: 16.92376254870513\n",
      "Seed: 이 산등에 올라서면 용연 동네는 저렇\n",
      "이 산등에 올라서면 용연 동네는 저렇게 말하니 벌써 일어 안으며,\n",
      "이애 저놈이 오줌 것이다.\n",
      "응, 그 방 안 소리가 나 하고 말을 하하여 보니 그만 보인지 하고 말을 하니 하고 말하였다. \n",
      "그리고 그의 손을 끌어 버렸으며 눈물을 발 모른 일이 이 여기가 없었다. 그리고 참외 이서방을 바라보았다.\n",
      "그러자 그는 무의식간에 내가 이렇게 오는 것이 있다.\n",
      "이서방은 이 동네 손을 만히 들고 보니 어머\n",
      "\n",
      "Epoch: 21/50 471/471 Error: 16.168284136270994\n",
      "Seed: 이 산등에 올라서면 용연 동네는 저렇\n",
      "이 산등에 올라서면 용연 동네는 저렇게 그는 또다시 그들의 눈이 선비는 눈을 깨시고 싶지고 있는가 하나 생각이 웃었다.\n",
      "이애 그 아부지 이서방이 여기도 있다면 선비 어머니가 무슨 생각을 하고 귀여 울렸다.\n",
      "그들이 아무 애이 어디로 나오시 수가 있다가 그의 어떤 사람의 집은 사람의 있다면 그런 모양을 바라보며 선비를 만나 장리에 지려는 할멈은 그의 어머니는 그는 눈을 스르르 들어가는 것을 이루\n",
      "\n",
      "Epoch: 22/50 471/471 Error: 15.95360058609115\n",
      "Seed: 이 산등에 올라서면 용연 동네는 저렇\n",
      "이 산등에 올라서면 용연 동네는 저렇게 마주앉이 들여다.\n",
      "그러나 그는 이러한 생각을 하며 이렇게 말하며 이 소리를 들었다. 그리고 놀라 일어난 가는 모양이 무서 들으니 하는 생각하였다. \n",
      "그는 어디 일어나서 이 여자가 바로 다 앉으려는 것이다.\n",
      "그래에 그는 어머니 곁에 놓아 이 여자가 이 집을 생각하며 아니 자기가 이렇게 해라는 것을 느꼈다. 선비는 이렇게 말하였다. 그리고 그만 어머니를 바\n",
      "\n",
      "Epoch: 23/50 471/471 Error: 16.56772383169274\n",
      "Seed: 이 산등에 올라서면 용연 동네는 저렇\n",
      "이 산등에 올라서면 용연 동네는 저렇게 되어 가서 그 집을 벗어 들어 버렸다. 그리고 이상까지 내 아들지 않았다. 그래서 그는 이엉을 들어 놓고 물러앉았다. 그리고 나무다리 던졌을 하며 귀여히 들렸다.\n",
      "그들은 그런 부시시 일어서서 이런 말을 하며,\n",
      "아버지도 소리가 그의 매일 물어지 못하였다. \n",
      "그리고 문 속에 들어던 때문을 하여 이렇게 말하였다. 그러나 그는 옥점이 가지치 않고 일어났다. 그\n",
      "\n",
      "Epoch: 24/50 471/471 Error: 16.875639712042634\n",
      "Seed: 이 산등에 올라서면 용연 동네는 저렇\n",
      "이 산등에 올라서면 용연 동네는 저렇게 하는 소리가 이렇게 중얼거리며 선비를 보고 나유서 나무다리를 하고 무어진다. 그리고 그의 발굴로 둥그리고 나오며 옥점 씨가 이 집에 술 가른 것이다.\n",
      "선비는 이렇게 중얼거리며 다시 오늘을 보았다. 그리고 선비가 아버지고 눈을 푹 후며 들으나 부러나 수가 없다. 선비는 어머니를 바라보며 이렇게 말하면 바라보았다. 그는 무의식간에 그의 부러운 모양이 휙 지\n",
      "\n",
      "Epoch: 25/50 471/471 Error: 15.430526460127197\n",
      "Seed: 이 산등에 올라서면 용연 동네는 저렇\n",
      "이 산등에 올라서면 용연 동네는 저렇게 보자도 어디가 있는가 하고 가만히 있다. \n",
      "그는 머리를 한 번 씩 물치며,\n",
      "어머니, 이 모양을 가만구나?\n",
      "어떤 말이 어디어지 나왔다.\n",
      "이애, 이 동네 같이 가라.\n",
      "선비는 불을 바라보았다. 신철이는 머리를 들여 들었다. 선비는 얼른 일어나 아보니, 어머니, 저 애가 가겠니…….\n",
      "그는 무슨 생각을 하며,\n",
      "아니 어떻게 가게.\n",
      "네.\n",
      "옥점이는 이 소리가 나가서 \n",
      "\n",
      "Epoch: 26/50 471/471 Error: 15.380246531687082\n",
      "Seed: 이 산등에 올라서면 용연 동네는 저렇\n",
      "이 산등에 올라서면 용연 동네는 저렇게 중얼거리며 그 집 집을 하였다.\n",
      "이서 이 방문이 가시고 있는가 하여 그래 한참이나 바라보며 그의 눈등이 방 이 새끼가 바라보았다. 그래서 그는 머리를 꾹 감았다. 그리고 문 앞에 서서 어머니를 바라보며 이렇게 말하였다. 그리고 무슨 일이 있어지를 하였다.\n",
      "이서방, 그것은 것 보지 않게 일어난다. \n",
      "그리고 자기가 아니냐, 얼핏 말똥어 가지고 서울 손님이 \n",
      "\n",
      "Epoch: 27/50 471/471 Error: 15.680500732672707\n",
      "Seed: 이 산등에 올라서면 용연 동네는 저렇\n",
      "이 산등에 올라서면 용연 동네는 저렇게 생각하였다.\n",
      "어머니가 어디 먹어요.\n",
      "그래야 그는 어디 가지고 싶어 어떻게 하는 것을 알았다.\n",
      "그래서 그 집은 사람…… 그래 어머니…… 그래.\n",
      "선비는 이엉 말이 없다. 그리고 어디가 아니라 오는 모양이다. 그것은 이서방을 생각하는 듯하더니 그만 한숨을 푹 쉬며 모양이다. 내가 이게 오게.\n",
      "옥점이는 나무다리를 바라보며 이렇게 말하였다. 그리고 남의 집을 바\n",
      "\n",
      "Epoch: 28/50 471/471 Error: 13.831905921831087\n",
      "Seed: 이 산등에 올라서면 용연 동네는 저렇\n",
      "이 산등에 올라서면 용연 동네는 저렇게 사랑하였다. 그리고 그의 얼굴까지 마음이었다. 첫째는 어떤 소태에 선비는 이 집에 보자서 무심히 일어 왔다. 그리고 어디가 아프지고 서서 이 원소를 바라보며 이렇게 생각하였다.\n",
      "이것 보세요, 저 사람이 있지가 이런 말을 하고 생각하였다. 그리고 그의 눈에 가진 사람의 눈에 내려오는 것을 깨달았다. 그리고 아무 같은 그의 어머니가 나오는 것을 느꼈다. \n",
      "\n",
      "\n",
      "Epoch: 29/50 471/471 Error: 15.208377110342528\n",
      "Seed: 이 산등에 올라서면 용연 동네는 저렇\n",
      "이 산등에 올라서면 용연 동네는 저렇게 자신을 바라보는 선비의 말을 다시금 일어나 앉았다. \n",
      "그리고 그의 어머니는 약을 통하여 이렇게 있다.\n",
      "어서 들어가 가시우.\n",
      "이렇게 중얼거리며 이 집 오래 사람은 그의 어머니가 마루 걸레를 하였다.\n",
      "이애 선비야!\n",
      "첫째는 일어나는 신철의 곁으로 다가 들여다보다가 그의 어머니는 옥점이가 아니면 어머니의 손을 져 물고 있다. 그래서 그의 어머니를 바라보고 있을\n",
      "\n",
      "Epoch: 30/50 471/471 Error: 14.177249199734558\n",
      "Seed: 이 산등에 올라서면 용연 동네는 저렇\n",
      "이 산등에 올라서면 용연 동네는 저렇게 불은 사람이 있으면 어서 있어라지.\n",
      "아, 이 원소를 따라 여자 앞에 온 어디어 어서 있을 때 그렇지 않으면 무슨 생각을 하고는 그 자태를 가지고 나오는 것 같고 그런 일이 있었다.\n",
      "그 이 원소리 사이 이리 떠오른다.\n",
      "그는 어머니를 바라보며 이렇게 말하였다. 그래서 그 눈을 사르르 그는 어떤 것을 보았다.\n",
      "그것은 좀 사람 위에 어디까 나오음을 것 같지 않\n",
      "\n",
      "Epoch: 31/50 471/471 Error: 14.254804781673617\n",
      "Seed: 이 산등에 올라서면 용연 동네는 저렇\n",
      "이 산등에 올라서면 용연 동네는 저렇게 보자 못 할 수? 아니?\n",
      "선비는 무의식간에 한참이나 바라보니 그래서 그 밭을 먹어 먹는다. 이서방은 선비 어머니는 눈을 끌 감았다. 그리고 이 집에 어디가 아니?\n",
      "옥점이는 참 웃었다. 그리고 방문을 열었다. 그때 무의식간에 그가 또 아래집 어머니 선비를 하고 할까? 그럼 보지 않고 그 집 집에서 그의 손을 가볍게 들어오는 소리가 그들이 나오는 것을 깨달\n",
      "\n",
      "Epoch: 32/50 471/471 Error: 13.145859302894923\n",
      "Seed: 이 산등에 올라서면 용연 동네는 저렇\n",
      "이 산등에 올라서면 용연 동네는 저렇게 모든 것이 수를 몰라 가지고 들어오는 것도 없다. 그리고 이 집에서 이 집을 생각하며 유서방의 손끝이 들어 온다.\n",
      "이서방은 이런 앞을 바라보았다. 그리고 어린애들에 어서 들어가는 선비를 보고 이렇게 말하였다. 그는 들여다보았다. 그리고 그의 집은 바라보았다. 그리고 일시에 일어나며,\n",
      "어서 가시우.\n",
      "옥점이는 어머니 곁으로 가서 나무다리를 벗어 들고 나서 \n",
      "\n",
      "Epoch: 33/50 471/471 Error: 13.219532296345047\n",
      "Seed: 이 산등에 올라서면 용연 동네는 저렇\n",
      "이 산등에 올라서면 용연 동네는 저렇게 마음을 것을 보려 가슴이 있다. \n",
      "그래서 그는 웬일인지 이 소리를 만나 선비는 머리를 기웃하여 내일 다음으로 나왔다.\n",
      "얼핏 이어 누게? 하고 몸을 생각하는 소리가 나락 바라가다가 다시 한번 나오기를 머리며 그의 손을 가진 밖으로 올려갔다. 그리고 이 방에서 모자를 돌아보며 이렇게 중얼거렸다. 그리고 나무다리를 다시 한참이나 울고 그의 집을 바라보았다. \n",
      "\n",
      "Epoch: 34/50 471/471 Error: 13.04032590866475\n",
      "Seed: 이 산등에 올라서면 용연 동네는 저렇\n",
      "이 산등에 올라서면 용연 동네는 저렇게 떠오르리 하였다.\n",
      "이렇게 지금이 못 고 안되었던 것이다. 옥점이는 그의 눈을 꾹 붙고 싶었다. 그래서 그는 눈을 꾹 감았다. 그리고 무거운 생각을 하며 안을 때는 벌써 일어나서 그의 이 소리가 나오시 오는 모양이다. \n",
      "그래서 그는 이렇게 중얼거렸다. 그리고 불은 그의 어머니는 눈을 꾹 감았다. 그들은 선비가 자기를 않고 또던 것이다.\n",
      "이렇게 지르기 말에\n",
      "\n",
      "Epoch: 35/50 471/471 Error: 13.060917437266482\n",
      "Seed: 이 산등에 올라서면 용연 동네는 저렇\n",
      "이 산등에 올라서면 용연 동네는 저렇게 생각하였다.\n",
      "이 원망 해두! 어머니와 그 집에 가지는 게야, 어떤 말이다. 그는 어머니를 돌아보며 이렇게 생각하였다. 그리고 문 밖으로 바라보았다. 그리고 지붕을 가진 오는 것 같았다.\n",
      "그는 이렇게 말하고 아니 방문이 열리며 이 여자가 그의 어디로 귀를 보는 체하고 이 방 안에 사줄 것이야 하고 생각해 보니 이렇게 말이어, 이 동네가 이 원소를 바라보며\n",
      "\n",
      "Epoch: 36/50 471/471 Error: 14.014711716723998\n",
      "Seed: 이 산등에 올라서면 용연 동네는 저렇\n",
      "이 산등에 올라서면 용연 동네는 저렇게 두 내달간 원 집으로 들어왔다. 그리고 신철이를 바라보며 그의 어머니는 얼굴이 빨개지며 사람이 그의 어머니를 보았다. 그리고 술을 가라 넣으면 그의 계집애는 지금 눈가 가늘게 들었다. 그리고 한숨을 푹 쉬며 그의 눈을 꾹 감았다. 그리고 물그릇도 그 방은 자리가 이 여자를 보고 싶은 일이 없나하는 것이다. 그는 이러한 생각지 않은 것이 없었다. 그리고 \n",
      "\n",
      "Epoch: 37/50 471/471 Error: 13.269416686790972\n",
      "Seed: 이 산등에 올라서면 용연 동네는 저렇\n",
      "이 산등에 올라서면 용연 동네는 저렇게 오늘이 아니라 나온다.\n",
      "이 사람에 잠이 되니?\n",
      "나마 그 돈 사람이 있으면 아까?\n",
      "선비는 어젯밤 일어났다. 그리고 일까나 아까지 어머니의 손으로 둥어린 후에 놀라 바람을 바라보며 이렇게 중얼거리며 장성이 선비가 보이며,\n",
      "이렇게 다 오셔이 오는 누가 어떤 줄방을 돌아보았다. 그리고 닭의 뒤를 따라서 다시는 생각하며 그만 참외막 사라진다. 이따자 선비 어머니\n",
      "\n",
      "Epoch: 38/50 471/471 Error: 11.589550884469599\n",
      "Seed: 이 산등에 올라서면 용연 동네는 저렇\n",
      "이 산등에 올라서면 용연 동네는 저렇게 어떤 것을 깨어 가지고 말았을 때 그는 생각이 웃었다. 그러나 그는 이렇게 중얼거리며 아무 불음 같았다. 그는 이 집 말 하고 나무서 무슨 이고 울음으로 나간 바람이 가만히며,\n",
      "네.\n",
      "하고 생각하며 장죽 없이 울바서 떨어진 저 사이다. 그는 머리를 번쩍 들며 신철의 손을 끌어다.\n",
      "옥점 어머니는 호호 하였다.\n",
      "어머니도 김매매 하고 말을 하니 그는 벌떡 일어\n",
      "\n",
      "Epoch: 39/50 471/471 Error: 12.993252026668387\n",
      "Seed: 이 산등에 올라서면 용연 동네는 저렇\n",
      "이 산등에 올라서면 용연 동네는 저렇게 사정하였다. 그리고 일시 하고 나도 있는 것을 보았다.\n",
      "그때 이 소리를 이 저리 말하였다. \n",
      "그리고 부시 이 밤리 사내가 이렇게 대여자.\n",
      "이 아 그놈이 하는 소리가 나락 가슴이 들었다. \n",
      "날 내의 그의 얼굴이 어디 가자. 선비는 변소리를 들었다.\n",
      "어머니.\n",
      "선비는 이렇게 말하며 그 돈을 이서 변소 하고 싶었다. 그리고 그 집을 다 없는 것을 참, 그리고 \n",
      "\n",
      "Epoch: 40/50 471/471 Error: 12.454401832847132\n",
      "Seed: 이 산등에 올라서면 용연 동네는 저렇\n",
      "이 산등에 올라서면 용연 동네는 저렇게 모르는 것이 있지 못하고 차츰 가늘어진 자기가 이렇게 떠오고 있까?\n",
      "그는 이렇게 중얼거리며 아까 웃었다. 그는 무엇을 생각이 웃었다. 그들은 그는 어머니의 곁에 섰다가 그의 어머니가, 이도 전에 다 먹으니, 그게 말이 아프으려 들어가. 이 그들의 손은 사람이 아니, 그래서 그는 이렇게 중얼거리며 아까 문다 오수? 저것 아버지, 그래 좋겠수.\n",
      "옥점이는 선\n",
      "\n",
      "Epoch: 41/50 471/471 Error: 12.848930870696172\n",
      "Seed: 이 산등에 올라서면 용연 동네는 저렇\n",
      "이 산등에 올라서면 용연 동네는 저렇게 만나 보는 듯하여 가슴이 둥그리고 있다. \n",
      "그는 중얼거리며,\n",
      "이서방, 그는 이렇게 중얼거렸다. 그리고 이렇게 말하며 무엇을 생각하였다. 그리고 아직도 아래로 어서 가자를 돌아보았다. 그리고 신철이가 선비를 꾹 물고 앉아다. 옥점이는 그의 잠으며 머리에 매기기는 모양이다. 그는 무의식간에 무의 손을 벗어 뿌리며 그의 아무를 하고 나왔다. \n",
      "그는 머리를 기\n",
      "\n",
      "Epoch: 42/50 471/471 Error: 11.54899425141478\n",
      "Seed: 이 산등에 올라서면 용연 동네는 저렇\n",
      "이 산등에 올라서면 용연 동네는 저렇게 보자 못하고 싶었다. 그때 그는 벌떡 일어 서서 오늘 아침 신음이 선뜻하였다. 옥점 어머니는 이 발에 달 달이 선비를 바라보지 못하고 말았다. 그때 마주 간을 가 있다. 그리고 이 아내가 아침에 오늘 아무 말이나 서방으로 가서 저 둘러운 듯이 그의 음성이 있다가 그리고 눈물이 떠나기가 입 곁으로 온다. 그리고 잠깐 한숨을 푹 쉬고 보았다. 그리고 그가 \n",
      "\n",
      "Epoch: 43/50 471/471 Error: 11.90663067976077\n",
      "Seed: 이 산등에 올라서면 용연 동네는 저렇\n",
      "이 산등에 올라서면 용연 동네는 저렇게 귀를 기울게 하였다. 그리고 이 자기의 손을 가서 있다가 하는 생각이 들었다. 그러나 그것은 터이나 서울 있는 것을 보니 건넌방 문 편 바자를 들여다. 그리고 손을 가서 시어지며, 그만 어머니를 돌아보며,\n",
      "어머니.\n",
      "한 후 무들리지 않고 나가서 속이 휙 떠오른다. 그는 눈을 꾹 감았다.\n",
      "그렇게 어머니는 이 원소를 나고 나오시 수 있었다. 그러나 어머니의 \n",
      "\n",
      "Epoch: 44/50 471/471 Error: 12.373500705286707\n",
      "Seed: 이 산등에 올라서면 용연 동네는 저렇\n",
      "이 산등에 올라서면 용연 동네는 저렇게 자리를 기어 내려는 것이다.\n",
      "그는 이러한 생각을 하며 이렇게 하는 생각이 들었다. 이서방은,\n",
      "첫째 어머니는 선비가 물은 양복쟁이를 더 곁으로 왔다.\n",
      "그들이 전에는 저 소리가 부러나 올라가며 다시는 일 물 뿐이다. 그는 눈을 꾹 감을 때, 그가 이상까지 왔을 것이겠니까 하고 두루두루 생각하였다.\n",
      "그가 자꾸 왔을 때 이 말에 어디로 가서 자네가 있는 것을 \n",
      "\n",
      "Epoch: 45/50 471/471 Error: 11.26657768807727\n",
      "Seed: 이 산등에 올라서면 용연 동네는 저렇\n",
      "이 산등에 올라서면 용연 동네는 저렇게 조알 하는 것이 새로 이 집을 보는 듯하였다.\n",
      "이애 그것은 그만두고 이 원민 같이 없는 듯한 가슴에 그는 소리를 들었다.\n",
      "응, 뭐 어떤 놈이 안 테어.\n",
      "덕호는 눈을 꾹 감고 부엌으로 나왔다.\n",
      "그는 이 밤에 어디가 쓸어오는 신철의 손을 끌는다. 옥점이는 그의 어머니는 물그릇을 그는 물끄러미 들여다보았다. 그래서 그는 머리를 번쩍 들이 다는,\n",
      "내 이러한 년\n",
      "\n",
      "Epoch: 46/50 471/471 Error: 10.895194802216526\n",
      "Seed: 이 산등에 올라서면 용연 동네는 저렇\n",
      "이 산등에 올라서면 용연 동네는 저렇게 사람 자지 못하고 다시 한마디도 자기 하는 생각이 소리 하였다.\n",
      "옥점 어머니는 얼굴이 빨개지며 속으로 들어가 나가며 오래 그가 가지고 싶어 하고, 그는 지금 속에서 서로 들어오는 선비를 보고,\n",
      "이거 아부지 아가 가지고 이렇게 보게 알니 그 저리로 나가서 오는 아무 목이 없이 내려왔다.\n",
      "이 나가라는 것을 그저 아무래 하여 가슴이 새로 다가앉는다.\n",
      "어떻게 \n",
      "\n",
      "Epoch: 47/50 471/471 Error: 11.426478228654958\n",
      "Seed: 이 산등에 올라서면 용연 동네는 저렇\n",
      "이 산등에 올라서면 용연 동네는 저렇게 변소 섰는 것이 있었다.\n",
      "아내 이 동네.\n",
      "선비는 숨결이 울컥 입을 두 물고 들어가고 싶었다.\n",
      "이렇게 중얼거리며 무심히 고이나서 그 등을 다그리고 싶어 하였다.\n",
      "이애 선비야!\n",
      "그는 이렇게 중얼거리며 이마 때문 전장을 바라보며 신철이가 오늘 알은 원망이 바른 살림은 사람이 없었다.\n",
      "이 모양을 바라보며 머리를 숙였다. 선비 어머니는 선비를 보고 물러앉으로 그\n",
      "\n",
      "Epoch: 48/50 471/471 Error: 11.733304424671232\n",
      "Seed: 이 산등에 올라서면 용연 동네는 저렇\n",
      "이 산등에 올라서면 용연 동네는 저렇게 지하여 보는 것 같았다.\n",
      "이서방, 그것은 이 밤에에 어디가 이 집을 건네 왔을지 몰라 그는 머리를 숙이며 저편으로 왔다. 그리고 사람이 고안되었다.\n",
      "신철이는 그 집을 사라지 않고 어머니를 내려다가 그의 아오는 모자 없이 소태나무 나무다 어머니의 그는 머리를 숙이고 들었다. 따라서 어머니의 계집애를 보고 그게 하고, 그는 얼굴을 꼭 내가 보았다.\n",
      "그들은 \n",
      "\n",
      "Epoch: 49/50 471/471 Error: 10.801491999215704\n",
      "Seed: 이 산등에 올라서면 용연 동네는 저렇\n",
      "이 산등에 올라서면 용연 동네는 저렇게 마주앉게 있는 것을 보니 사주 없는 것이다.\n",
      "그 고안 그들은 이서방을 다시 오른다.\n",
      "이애 그 돈 일 원이 또…….\n",
      "옥점이는 무심히 좀 못 견딜어 들어왔다.\n",
      "이 나무라진 말에 그의 눈을 얼핏 생각하였다. 그리고 어떤 가슴을 들어 그의 어머니가 벌써 기어하고 있는 것을 보니 사줄 모양이다. 그는 지금 속에 서서 이렇게 말하면서 그 집에 사라진 지화를 지요하\n",
      "\n",
      "Epoch: 50/50 471/471 Error: 10.97420022009505\n",
      "Seed: 이 산등에 올라서면 용연 동네는 저렇\n",
      "이 산등에 올라서면 용연 동네는 저렇게 주인하니를 만져 보지 못하였다. 그는 누구침을 내다보았다.\n",
      "아버지가 그의 어머니가,\n",
      "아이 서 사람들이야요.\n",
      "옥점이는 머리를 좌우로 흔들며 물 위 없다. 그리고 손을 들고 나간 바라지 가만히 들여다보았다. 그는 무엇을 좀 우각하였다.\n",
      "옥점 어머니는 이렇게 말하였다. 그리고 다 어떻게서 이 집에 대한 후에 와서 있는 것이라고 서서 시르나 하는 것을 보니 자\n",
      "\n"
     ]
    },
    {
     "data": {
      "image/png": "[encoded data removed]",
      "text/plain": [
       "<Figure size 432x288 with 1 Axes>"
      ]
     },
     "metadata": {
      "needs_background": "light",
      "tags": []
     },
     "output_type": "display_data"
    },
    {
     "name": "stdout",
     "output_type": "stream",
     "text": [
      "time : 1889.3223855495453\n"
     ]
    }
   ],
   "source": [
    "# output for training without clipping gradient\n"
   ]
  },
  {
   "cell_type": "code",
   "execution_count": 64,
   "metadata": {
    "colab": {
     "base_uri": "https://localhost:8080/",
     "height": 0
    },
    "executionInfo": {
     "elapsed": 1929162,
     "status": "ok",
     "timestamp": 1626680444892,
     "user": {
      "displayName": "‍유지훈[ 학부재학 / 컴퓨터학과 ]",
      "photoUrl": "",
      "userId": "02271279893949387411"
     },
     "user_tz": -540
    },
    "id": "5TsDIQkCWRoq",
    "outputId": "9a1e3a62-515f-4c46-eacf-4f866e7f48c4"
   },
   "outputs": [
    {
     "name": "stdout",
     "output_type": "stream",
     "text": [
      "Epoch: 1/50 471/471 Error: 31.57175092715376\n",
      "Seed: 이 산등에 올라서면 용연 동네는 저렇\n",
      "이 산등에 올라서면 용연 동네는 저렇 바이 사이 은 일게 것지 가 이을 가 이 말어다.\n",
      "그는 하을 마어 없다. 나가 하보을 그고 가 가 어쎄 내을 그어지 말을 기가 이 들고 말 그을 가 끊이 길로 내니는 하었이 가 기 집로 보여을 사을 가 하은 신이 하의 생이 저을 이 하고 하을 어리을 하을 바고 선가 오을 보가 그을 이어 아이 보는 바는 일, 바었다.\n",
      "그이 그리는 무니 어리고 무라방을 슨에\n",
      "\n",
      "Epoch: 2/50 471/471 Error: 28.02530699582612\n",
      "Seed: 이 산등에 올라서면 용연 동네는 저렇\n",
      "이 산등에 올라서면 용연 동네는 저렇 생각을 ! 같어 첫 것이 말라이 과 놀이 들을 하고 주 자을 않이 눈하다. 그서 어리는 말이 것을 나다.\n",
      "\n",
      "그리 바며 어아가 어지 않 그는 고 바라가 가 들은 소라 어니다.\n",
      "이 그리고 나 어들을 나 이 들어 보리 나지 그리 아지 이 사고 하가 하는 다.\n",
      "그는 자 사이 주지 발 소고 자리 동 내다. 그리고 그 아이 어라가 나 않어 일고 것을 바라가 들어 이\n",
      "\n",
      "Epoch: 3/50 471/471 Error: 27.023827524075422\n",
      "Seed: 이 산등에 올라서면 용연 동네는 저렇\n",
      "이 산등에 올라서면 용연 동네는 저렇게 하고 어머니는 이서 아을 하며 그하였다.\n",
      "이서 사밴이는 그의 생을 하였다. 그리고 것을 가 일어서 선비는 웬지를 모로 아니는 것을 보았다.\n",
      "그는 가라지 어머니는 들이다.\n",
      "그는 사리고 어머니 어머니는 선비는 길을 이는 주에가 그의 어머니는 선비가 선비는 들어가 하고 것을 하였다.\n",
      "그리고 것을 한 하고 바았다.\n",
      "그호는 일어머니는 빨우니 아무다.\n",
      "이게 어머니\n",
      "\n",
      "Epoch: 4/50 471/471 Error: 25.378314381161594\n",
      "Seed: 이 산등에 올라서면 용연 동네는 저렇\n",
      "이 산등에 올라서면 용연 동네는 저렇게 어머니 어머니는 하는 말이 하고 어서 어머니는 사이 불 신철이는 말에 그는 일에 어머니는 어머니를 하고 하고 소리고 하여 어머니는 어머니는 어머니는 그의 같이 안 해 있는 이 바라보았다. 그리고 어머니 들어 가 가 하고 하고 하고 하는 하였다. 그는 그의 옥점이는 어머니를 아 들어 그는 말을 하고 들어오는 이 무호의 들어머니는 선비를 가리고 하고 말이 \n",
      "\n",
      "Epoch: 5/50 471/471 Error: 24.87665842449401\n",
      "Seed: 이 산등에 올라서면 용연 동네는 저렇\n",
      "이 산등에 올라서면 용연 동네는 저렇게 하고 하였다.\n",
      "선비는 안 일어나나 것이 것을 하고 하였다.\n",
      "그리고 선비의 어머니를 어서 때 하는 것을 어나서 어떤 사저 가 그는 싶어 가 하고 물하니 달른 자가 가 새 있다. 그리고 무 어머니를 싶라보며 그의 웃아 버달에 어머니는 나무 같을 하며 돌아보는 것이 주아보며 하고 생각하였다.\n",
      "아서 어머니는 생각이 하고 하고 모자 울 하고 선비가 가리고 동하고\n",
      "\n",
      "Epoch: 6/50 471/471 Error: 24.312801886760976\n",
      "Seed: 이 산등에 올라서면 용연 동네는 저렇\n",
      "이 산등에 올라서면 용연 동네는 저렇게 얼굴이 나 가서 하였다.\n",
      "그래서 방은 이 한 일어 가 못 이 것이 그의 이 하여 가리를 나 섰다. 그리고 그 소리로 그 보았다. 그는 얼가 달지 않았다. 옥점 그는 그리 이 나서 나 달기 휙 가 하였다. 그래서 어머니 어머니를 못 그는 어머니는 얼굴이 바라보았다. 그리고 그의 어머니는 이 집을 하며 모양이 것을 나 선비 어머니는 이 방 그의 눈에 이 아\n",
      "\n",
      "Epoch: 7/50 471/471 Error: 24.752311226612797\n",
      "Seed: 이 산등에 올라서면 용연 동네는 저렇\n",
      "이 산등에 올라서면 용연 동네는 저렇게 무슨 머리를 다시고 선비를 보는 것이다.\n",
      "민수는 눈을 오늘며,\n",
      "아, 고 그는 눈을 가라고 든다.\n",
      "아버지 봐…….\n",
      "이렇게 덕호는 이놈이 아니야,\n",
      "그 자가 조람을 들어갔다.\n",
      "이애는 그리고 이렇게 하여 그것이다.\n",
      "이서방은 이 그들이는 그의 말을 보고,\n",
      "그는 아무다가 선비는 이 아 있는 것이다.\n",
      "옥점이는 그의 이만 아지를 보고 나지는 모양이다.\n",
      "왜 이 어머니는\n",
      "\n",
      "Epoch: 8/50 471/471 Error: 23.53042005944718\n",
      "Seed: 이 산등에 올라서면 용연 동네는 저렇\n",
      "이 산등에 올라서면 용연 동네는 저렇게 여 들어가며 아 가슴이 어머니의 새에 한 것 다.\n",
      "이 어머니가 어서 여 일어가지 않는 것 생각하고 가다.\n",
      "그래 어머니는 이 눈을 같고 이 있는 것이다. 그리고 저 집에 이 놈의 얼굴을 보며 이렇게 하고 있는다.\n",
      "이 선비가 조늘 사람이 나왔다. \n",
      "그는 그 소리가 들어오며, 이렇게 나 그러나 이 개지 못한 선비가 하였다. 그는 한 생각이 들어나며 어머니가 \n",
      "\n",
      "Epoch: 9/50 471/471 Error: 22.636083988342328\n",
      "Seed: 이 산등에 올라서면 용연 동네는 저렇\n",
      "이 산등에 올라서면 용연 동네는 저렇게 하고 나무다리고 생각하는 것을 바라보며,\n",
      "이 너 싶어 있는 것 생각하였다. 그는 이런 모양을 놓고 이었다. 그는 모양이다.\n",
      "그는 소리를 지금 돌아보았다.\n",
      "그는 이 안에서 그게 어서 어머니가 하는 생각을 하고 생각하였다.\n",
      "그는 어머니는 차 안에서 그는 모양이다.\n",
      "이서방 누가 다는 것을 하고 그러 되었다. 그는 이 일어나 그놈의 앞에 자기를 바라보며 무슨 \n",
      "\n",
      "Epoch: 10/50 471/471 Error: 23.442730066628606\n",
      "Seed: 이 산등에 올라서면 용연 동네는 저렇\n",
      "이 산등에 올라서면 용연 동네는 저렇게 있었다. \n",
      "그러나 가슴은 이 일어나는 것을 때 민수는 생각은 할 것을 들어 보며 이렇게 하였다. 그리고 조에 들어오는 것이 자기의 자를 놨다. \n",
      "그는 가슴이 옥점이가 나무다리 마나 가슴이 되자기 들여 가 가지 않았다. 그는 이서방은 눈에 일어나며 이 집을 바라보며 이렇게 가지 않았다. \n",
      "그리고 나오는 소리가 할 들어나는 것을 번 하고 자리 사람들은 모양\n",
      "\n",
      "Epoch: 11/50 471/471 Error: 22.632539857710505\n",
      "Seed: 이 산등에 올라서면 용연 동네는 저렇\n",
      "이 산등에 올라서면 용연 동네는 저렇게 나가지구나, 어디 거리를 지고 않고 무엇을 지고 않고 생각하여 보았다. 그리고 이편은 선비를 어디어 들어오는 것이다.\n",
      "이서방은 어머니가 보고 왔다. 그리고 왜 어디 오르고 오었다. 그리고 저 누구니?\n",
      "난 이 어오면 어머니, 어디 어머니가 이 있었다.\n",
      "그리고 무엇을 하고 올라보았다. 그리고 어머니는 모양이다.\n",
      "그만 일어요.\n",
      "어서 자 어머니는 것이다. 그리\n",
      "\n",
      "Epoch: 12/50 471/471 Error: 20.823603179931037\n",
      "Seed: 이 산등에 올라서면 용연 동네는 저렇\n",
      "이 산등에 올라서면 용연 동네는 저렇게 해가 오는 것을 다시고 그 집을 하여 돌아보았다. 그리고 부시시 그들어 가는 소리를 내려서 들어오는 모양인가? 그리고 일어나며,\n",
      "아니, 왜 어머니는 얼굴을 열고 가서 것을 하고 좋아한 듯이 오는 소리를 내려 가는 것을 보았다. 그래서 그는 모양이다.\n",
      "그리고 물을 하고 내려온 것을 보았다. 그의 어머니는 무슨 이 없이 모양을 바라보았다. 그러나 그래 가슴\n",
      "\n",
      "Epoch: 13/50 471/471 Error: 20.62624375752448\n",
      "Seed: 이 산등에 올라서면 용연 동네는 저렇\n",
      "이 산등에 올라서면 용연 동네는 저렇게 오늘하였다.\n",
      "그러나 그는 나무다리를 한다. 그리고 무슨 생각하였다. 그는 이렇게 떠오른다. 그리고 한참이나 나오는 듯이 안방으로 들어왔다. 그리고 자기를 보며 어머니는 선비를 보며 모양을 하였다.\n",
      "그러나 그리고 내가 하는 듯하여 그는 어머니가 벌써 어디가 하고 있다.\n",
      "그래서 이 원소를 보았다.\n",
      "그리고 버리를 돌아보았다.\n",
      "그러나 어머니는 모양이다.\n",
      "그는 \n",
      "\n",
      "Epoch: 14/50 471/471 Error: 20.21311296111613\n",
      "Seed: 이 산등에 올라서면 용연 동네는 저렇\n",
      "이 산등에 올라서면 용연 동네는 저렇게 떠오른다.\n",
      "이제 저 동네 뭐 사람이 있는 것이 있다. 그리고 물어 있지 못하였다. 이리고 일어나며 온 그의 얼굴을 바라보며 이렇게 말이었다.\n",
      "이서방은 그 그래 그리고 들어가 있다. 그리고 다시에 한숨을 때 바라보았다.\n",
      "어서 부시금 얼굴이 바라보았다. 그리고 그 눈을 돌아보며 소리가 하고 들어오며 이 선비를 얼굴이 바라보며 어머니 말에 그 동네 시금 그 \n",
      "\n",
      "Epoch: 15/50 471/471 Error: 20.28428840249224\n",
      "Seed: 이 산등에 올라서면 용연 동네는 저렇\n",
      "이 산등에 올라서면 용연 동네는 저렇게 말하고 나가면 하였다. 그리고 사람이 들어 보았다. \n",
      "그리고 어머니를 바라보며 어머니의 손을 바라보며 선비의 성이다.\n",
      "이놈들!\n",
      "하는 이 없다. 그리고 어디서 바라보다가, 그 자식한 민수를 진다. 선비는 어머니는 다시시며 더 가슴이 있다. \n",
      "그는 어머니가 하늘을 하는 것이다.\n",
      "이 그러나가 그의 눈을 열고 나왔다.\n",
      "아버지요.\n",
      "옥점이는 그의 성저편을 하며,\n",
      "\n",
      "\n",
      "Epoch: 16/50 471/471 Error: 20.368633237393972\n",
      "Seed: 이 산등에 올라서면 용연 동네는 저렇\n",
      "이 산등에 올라서면 용연 동네는 저렇게 하였다. 그때 어머니는 일을 보며 이 집어 보니 아무 거 집에 물러앉았다. 그리고 그 자기를 들었다. \n",
      "그는 어머니는 선비의 어머니를 머리를 열고 들으며 아무의 말을 버렸다. 그리고 나 하고 싶은 것이 있었다. 그래서 그러나 아무 아랫에 눈을 살리고 나오는 것이다. 그것은 그 눈을 머리를 들고 보며 저 원소 들어가면서 옥점의 손을 열리며 또다시 못하고 \n",
      "\n",
      "Epoch: 17/50 471/471 Error: 19.77606008445994\n",
      "Seed: 이 산등에 올라서면 용연 동네는 저렇\n",
      "이 산등에 올라서면 용연 동네는 저렇게 하고 싶었다.\n",
      "선비는 그의 어머니는 수가 없었다. 그리고 나무다리를 따라 것이 다시시우.\n",
      "이서방은 벌써 일어 왔다. 그리고 무슨 말이 그의 집에 그의 어머니는 이 따리가 가슴이 올려다보았다. 그리고 아무 변소를 보이고 일어나며,\n",
      "아, 저 저 자식 가슴이 얼굴을 열고 내려 때문을 보니 그는 아무다리를 생각하니,\n",
      "그런 후에 그의 어머니를 보고 나무다리고 나\n",
      "\n",
      "Epoch: 18/50 471/471 Error: 20.35969794045683\n",
      "Seed: 이 산등에 올라서면 용연 동네는 저렇\n",
      "이 산등에 올라서면 용연 동네는 저렇게 말하여 놓고 나오는 것이다.\n",
      "그는 어머니는 바람보지 않았다. 그리고 도어 있는 것은 그 안 받았는지?\n",
      "왜, 왜 사람 누지, 아?\n",
      "이렇게 그는 어머니는 저리 없어 놓고 되는 것이다. 그리고 나간 그는 어디로 가지고 나왔다. 그리고 그는 어떤 모양이 그의 어머니는 저편으로 바라보며,\n",
      "어머니는 모양이야. 옥점이는 그의 손을 감고 내려나는 것을 알았다. 그리고\n",
      "\n",
      "Epoch: 19/50 471/471 Error: 19.47265500340057\n",
      "Seed: 이 산등에 올라서면 용연 동네는 저렇\n",
      "이 산등에 올라서면 용연 동네는 저렇게 얼굴이 물러보니 방문을 돌아보았다. 그리고 그의 손을 마루 내려들며 이렇게 말을 하였다. 그는 무슨 손을 보고 나뭇졌으나 들어가 보더니 아무도 생각하는 듯이 만 보지 않았다. \n",
      "그는 머리를 돌아보며 어머니를 돌아보았다. 그리고 물끄러미 돌아보았다. \n",
      "그러나 그는 계집애를 보고 그만 일어나며 옥점이를 쳐다보았다. 그리고 생각하였다.\n",
      "아직도 그의 어머니는 \n",
      "\n",
      "Epoch: 20/50 471/471 Error: 19.706109441931652\n",
      "Seed: 이 산등에 올라서면 용연 동네는 저렇\n",
      "이 산등에 올라서면 용연 동네는 저렇게 싫어진 듯이 있다가 이 있어 버렸다. 그는 이 집에 가슴이 눈을 생각하며 이 불어 보았다. 그리고 무슨 말을 칵 한다. \n",
      "그는 말이 아직도 이렇게 말하면 그는 머리를 따라 놓으며 이서방의 손을 바라보며 이 들어가 보고 있는 것 같이 한참이나 얼굴이 그의 눈등이 바라보았다. 그리고 이 집에 또 웃었다. \n",
      "그래서 이 집에 무슨 말을 푹 할까지 못하여 보았다\n",
      "\n",
      "Epoch: 21/50 471/471 Error: 19.587921122590444\n",
      "Seed: 이 산등에 올라서면 용연 동네는 저렇\n",
      "이 산등에 올라서면 용연 동네는 저렇게 말하여 주인을 바라보았다.\n",
      "그래서 이서방을 돌아보았다. 옥점이는 그의 음성이 없이 들어온다.\n",
      "그들은 이렇게 웃으며 이편으로 들어오며 이 양사람을 열었다.\n",
      "그럼 어머니, 이서방은 말하여 가슴을 열리는 듯하여 보았다. 신철이는 음성을 가만히 들었다.\n",
      "이서방은 문 음성에 그들의 얼굴을 바라보았다.\n",
      "선비 어머니는 눈을 바라보았다.\n",
      "이서방은 눈물을 가지며 선비를\n",
      "\n",
      "Epoch: 22/50 471/471 Error: 18.573288018441694\n",
      "Seed: 이 산등에 올라서면 용연 동네는 저렇\n",
      "이 산등에 올라서면 용연 동네는 저렇게 말하고 있는 것 같았다. 이서방은 돌아 보았다. 그는 무슨 말을 그는 이 있을 때 그 그 돈 가슴이 한참 생각하며 이렇게 말하였다. 그는 이 소리를 매고 있는 것 같은 것 같은 이 집에 그의 말을 하느라 하였다. 그는 그의 말끝을 하고 무엇 말에 그의 이 밭을 생각하였다. 그리 문이 무슨 말에 그렇게 말을 하고 말이 그의 음성이 그의 말을 그는 이 여자\n",
      "\n",
      "Epoch: 23/50 471/471 Error: 19.182731362539414\n",
      "Seed: 이 산등에 올라서면 용연 동네는 저렇\n",
      "이 산등에 올라서면 용연 동네는 저렇게 하고 앉았다.\n",
      "그는 일이 나 앞으로 나왔다.\n",
      "이거 이 방 앞에서 물 눈을 겨 모며 선비를 보며 이렇게 웃었다. 그는 언제나 신철이는 이렇게 할까지 고는 어머니를 돌아보며 이렇게 웃었다.\n",
      "그렇게 아들어가는 저 못을 보았다.\n",
      "이서방은 언제나 나무다리를 웃어 놓고 나가 나뭇 수 없었다. 그러나 신철이는 딸을 바라보며,\n",
      "이애 이서방은 눈물이 열지는 이 나무다리\n",
      "\n",
      "Epoch: 24/50 471/471 Error: 18.452806513805278\n",
      "Seed: 이 산등에 올라서면 용연 동네는 저렇\n",
      "이 산등에 올라서면 용연 동네는 저렇게 말하였다.\n",
      "이서방은 물끄러운 듯이 그의 눈등이 바싹 다가앉았다.\n",
      "이 방 같이 있다.\n",
      "이 방에서 무슨 옷을 푹 쉬었다.\n",
      "이 동네 쌀이 있겠수?\n",
      "길게 이 원소를 들여 보이 있다.\n",
      "이서방은 벌떡 일어났다.\n",
      "그 방 안에서 그 나무다도 한 후 있다가 가슴이 열고 보았다.\n",
      "이 동네 민수는 이렇게 얼핏 생각하였다. 그래서 그의 손은 이 집에 들어가서 이 원소의 눈을\n",
      "\n",
      "Epoch: 25/50 471/471 Error: 17.85106755194204\n",
      "Seed: 이 산등에 올라서면 용연 동네는 저렇\n",
      "이 산등에 올라서면 용연 동네는 저렇게 물러앉았다. 그리고 아직도 아니 있다가 그의 얼굴을 바라보았다. 그리고 그의 손을 보니 어떤 것을 보니 때, 안방 말리는 선비의 곁으로 나왔다. 그리고 안 있는 것을 보니 때문 안에서 무엇을 생각하였다. 그리고 벌써 보았다. 그리고 그의 어머니는 머리를 진다. 선비는 얼굴을 바라보았다. 그리고 대답을 다시 내려온 것을 보아 나뭇하고 싶었다. 그리고 무슨\n",
      "\n",
      "Epoch: 26/50 471/471 Error: 18.15831313634338\n",
      "Seed: 이 산등에 올라서면 용연 동네는 저렇\n",
      "이 산등에 올라서면 용연 동네는 저렇게 시굴이 아니?\n",
      "이서방!\n",
      "옥점이는 돌아보았다. 그리고 무슨 말이 그의 이 한 그의 얼굴에 어머니가 또 어린애 말이 없어.\n",
      "선비는 머리를 한번 들어가는 것 같은 것이 안 뜨지 않았다. 그래서 그들은 저편 눈물 따라 선비의 집으로 들어가 들어오시 아이 원소의 얼굴을 다 하고 들어간 하고 생각하니 하고 말 하고 들음 하고 무심히 들었다. \n",
      "그러나 그 돈 같은 \n",
      "\n",
      "Epoch: 27/50 471/471 Error: 17.751500476384777\n",
      "Seed: 이 산등에 올라서면 용연 동네는 저렇\n",
      "이 산등에 올라서면 용연 동네는 저렇게 일어나 그 집을 누구 이 원소를 바라보는 그는 이런 일인지 저편으로 나왔다.\n",
      "그는 이 동네 민수는 이 원소를 들었다.\n",
      "그는 이서방은 무슨 후에 놓아 어머니를 바라보는 이서방을 돌아보니 저편 후에 자리 이 이 배우미 사람이 이 없이 되는 신철이를 보고 싶은 것이 없었다. 그는 어실어 가지고 않았다.\n",
      "어서 이 동네 이 집에 있는지 저편 아내 고운 지붕을 들\n",
      "\n",
      "Epoch: 28/50 471/471 Error: 16.65927358722566\n",
      "Seed: 이 산등에 올라서면 용연 동네는 저렇\n",
      "이 산등에 올라서면 용연 동네는 저렇게 하여 가슴이 무섭게 하였다. 그리고 무슨 말을 해야 하며 할멈 곁에 들었다. 그리고 어디로 가늘히 건넌방이 안방으로 들어온다. 그러나 그 돈을 하고 나는 것이 없었다. 그래서 그들은 바자에 가서 있는 것이 없었다. 그러나 그의 어머니는 이 자기가 들어가 가지, 아이 있기 하니 모자 걸레들이 가슴을 생각하며 옥점의 곁으로 가져앉았다. 그리고 그의 어머니를\n",
      "\n",
      "Epoch: 29/50 471/471 Error: 16.988017351459277\n",
      "Seed: 이 산등에 올라서면 용연 동네는 저렇\n",
      "이 산등에 올라서면 용연 동네는 저렇게 말하고 어머니의 손을 꾹 치고며, 이 자네.\n",
      "이렇게 이 자리가 나구나 어머니의 아버지 어머니는 것을 내어 놓고 있었으면 이 집에서 정어디 가자지 않는 것을 보았다.\n",
      "옥점 어머니는 선비를 보며 이 참았다.\n",
      "아버지, 어서 들어오시겠나?\n",
      "선비는 얼굴을 통하여 가서 물이 들어가 나오는 것을 보았다. 선비는 머리를 좌우로 가서며 이 나뭇가리고 나온다.\n",
      "선비는 얼\n",
      "\n",
      "Epoch: 30/50 471/471 Error: 16.738598737879723\n",
      "Seed: 이 산등에 올라서면 용연 동네는 저렇\n",
      "이 산등에 올라서면 용연 동네는 저렇게 농민들이 가서 자식간이 불쑥 가져 있는 것이 조금 돌아보았다.\n",
      "그리고 자기의 눈을 다 입 쓸 수하는 소리가 하였다.\n",
      "그는 곧 일어났다. 그리고 자기의 이 없는 것을 다 앉았다.\n",
      "그 돈 안에서 그 돈을 하려 가만히 알아 가만히려 놓았던 것이다.\n",
      "그래서 이 거리 안 가지라는 것을 알았다. 그리고 무슨 말을 이느니 가슴에 섰던 이 들음보았다.\n",
      "그리고 오늘 게\n",
      "\n",
      "Epoch: 31/50 471/471 Error: 17.162780036280612\n",
      "Seed: 이 산등에 올라서면 용연 동네는 저렇\n",
      "이 산등에 올라서면 용연 동네는 저렇게 새끼를 꺼내 때문 앞에 가슴이 푹푹 떠보며 사마라.\n",
      "그리고 나가 앉았다.\n",
      "어머니, 어린것도 없지.\n",
      "덕호는 이 말을 다시 되었다. 그리고 그의 어머니를 슬리고 나서 자리를 되었다. 그리고 닭의 남의 손굴이 불긋하였다.\n",
      "옥점이는 머리를 숙이 하였다. 그리고 그 집에 서서 이 원소를 다는 것 같았다. 그리고 그의 어머니를 바라보았다. 그는 생각을 하여 가지고\n",
      "\n",
      "Epoch: 32/50 471/471 Error: 16.662434258142213\n",
      "Seed: 이 산등에 올라서면 용연 동네는 저렇\n",
      "이 산등에 올라서면 용연 동네는 저렇게 시작하였다.\n",
      "그는 얼른 신철이는 그만 그의 뒤를 따라 물을 다 그렸다. 그리고 그만 지 못한 그 동안 선비에 보았다.\n",
      "그때 선비는 그의 얼굴을 다 그 다고 보았다.\n",
      "그래서 그 방 안에 서방 손에 꺼내 가서 그 울 안 가세히 나 잡으며 뒤를 싸고 안방으로 나왔다.\n",
      "그만 마침 그 집에 서서 안방을 한숨을 대하여 보더니,\n",
      "그럼 그만 저 양복쟁이는 좀 어디 가\n",
      "\n",
      "Epoch: 33/50 471/471 Error: 16.75648379502223\n",
      "Seed: 이 산등에 올라서면 용연 동네는 저렇\n",
      "이 산등에 올라서면 용연 동네는 저렇게 하면 그만 눈을 하고 나뭇 때 그렸다.\n",
      "아버지나 그 지도 않고 싶어?\n",
      "애 아 있지?\n",
      "이렇게 봐.\n",
      "옥점이는 밀어 보며,\n",
      "아 있지.\n",
      "이애 부시 저리 오늘이 하니 못 그리로 사라진 선비를 따라 물을 번쩍 들어 놓고 이 집어.\n",
      "그럼 두어 사주지 못하고 그는 눈물이 없는 것 같은 것 같은 것이 없어.\n",
      "덕호는 아버지가 하였다. 그리고 떠나두 마디 있게 것이지.\n",
      "신\n",
      "\n",
      "Epoch: 34/50 471/471 Error: 15.896220558887663\n",
      "Seed: 이 산등에 올라서면 용연 동네는 저렇\n",
      "이 산등에 올라서면 용연 동네는 저렇게 시굴이 되었는 것이 없었다. 그러나 그는 이 원소를 생각하였다.\n",
      "이 저 그래, 그게 어떻게 뭐야.\n",
      "신철이는 머리를 숙이 있는가 하는 생각이 들었다. \n",
      "그러나 그 여자 이 있게 있는 것이 그 집에 집에서 왔다. 그리고 그 지붕 않았다.\n",
      "신철이는 얼른 일어나며 이 방 오래 가지고 있는 것 같았다.\n",
      "그러므로 혹은 유서 이 새삼스럽게 떠오른다. 그리고 그 집을\n",
      "\n",
      "Epoch: 35/50 471/471 Error: 16.563609151105148\n",
      "Seed: 이 산등에 올라서면 용연 동네는 저렇\n",
      "이 산등에 올라서면 용연 동네는 저렇게 숨이 부러웠다. \n",
      "그는 일시에 선비가 너무 주인가? 그의 어머니를 바라보다가 어디서 달려나왔다.\n",
      "그래서 이런 말을 이 집에는 매도 있지 못한 것이 없지 않고 무슨 생각지를 하고 싶었다.\n",
      "그래서 그 가지가 나온다.\n",
      "선비는 어머니를 돌아보며 옥점의 어머니는 사람이 없어서 이런 말이 아니 아프다시 생각하였다. 계집애는 그의 눈에를 싸고 그의 음성에 놓다가 그\n",
      "\n",
      "Epoch: 36/50 471/471 Error: 15.90477749904974\n",
      "Seed: 이 산등에 올라서면 용연 동네는 저렇\n",
      "이 산등에 올라서면 용연 동네는 저렇게 중얼거리며 소리가 나므로 나온다. \n",
      "그래서 어떻게 하고 있다. 그들은 바람에게 어린애지 그렇게 어째 하고 말을 다 먹으며,\n",
      "첫째를 어떻게 나오시우.\n",
      "옥점이는 얼굴이 빨개지는 듯하여 소리가 들어오는 소리가 그의 가슴을 생각하며,\n",
      "어머니가 큰 아버지가 아프구나 하고 보니 선비가 아무다리를 하며 이렇게 중얼거리었다. 그리고 어디가 있다가 벌써 가지고 말았다.\n",
      "\n",
      "Epoch: 37/50 471/471 Error: 16.233688966243914\n",
      "Seed: 이 산등에 올라서면 용연 동네는 저렇\n",
      "이 산등에 올라서면 용연 동네는 저렇게 떠오른 것을 보니 어쩐지 선비를 보고 이리로 올라온다.\n",
      "어머니 곁에 무서운 말이 없다가 오는 것은 선비님이 이때껏 오늘은 저녁을 다시금 바라보았다.\n",
      "이걸 무슨 말을 길이지 못하였다.\n",
      "그들은 선비에 선비는 머리를 번쩍 들었다.\n",
      "이서방은 이 들어오며,\n",
      "아니 그들은 저 가슴이 그릇을 보니 어서 선비를 보았다.\n",
      "이렇게 말을 다시금 바라보았다.\n",
      "어머니, 내 오는\n",
      "\n",
      "Epoch: 38/50 471/471 Error: 15.741204419540729\n",
      "Seed: 이 산등에 올라서면 용연 동네는 저렇\n",
      "이 산등에 올라서면 용연 동네는 저렇게 생각하며 그의 어머니의 뒤로운 일을 바라보더니, 아도 이놈아, 이놈의 계집애는 벌떡 일어나면 어머니는 모두어 가는 후 아랫목을 바라보았다. 그리고 어머니의 장성을 바라보며 머리를 숙아 울려다보니 서방을 바라보더니 그의 어머니는 머리를 만나 그려 어머니는 초 이렇게 중얼거리며 이렇게 어디서 부엌으로 나왔다. \n",
      "그리고 어디로 아이 있게 하는지 몰랐다. 그리\n",
      "\n",
      "Epoch: 39/50 471/471 Error: 15.156653275384869\n",
      "Seed: 이 산등에 올라서면 용연 동네는 저렇\n",
      "이 산등에 올라서면 용연 동네는 저렇게 집으로 들어가 있으면 어디 있을 때 선비는 모양을 바라보며 마침내 일어났다. 이서방은 소리를 들어 보니 딸기 아침을 때문이 열리는 소리를 들고 보았다. 그러나 그는 선비는 선비의 음성이 아니면 아무도 잘 그렇게 어서 들어오는 모양이냐.\n",
      "그는 눈을 지고 나서 울인 모양인지 가슴이 아니면 시작은 정신이 소리를 들린 때, 아까 참으나 들어가는 사람이 없었다.\n",
      "\n",
      "Epoch: 40/50 471/471 Error: 15.913650106439823\n",
      "Seed: 이 산등에 올라서면 용연 동네는 저렇\n",
      "이 산등에 올라서면 용연 동네는 저렇게 하던 생각하니 그는 눈을 꾹 감았다. 그리고 나가 그의 손을 끌어 채 안으로 올라왔다. 그리고 그 사랑을 새삼치는 듯한 그리고 그 사랑하여 가서 사람들이 있었다. 그리고 그 집을 잘 하고 나치는 것이 한참이나 생각하였다. 그리고 그 지붕과 지금 않고 나오시는 것이다.\n",
      "이거 입담아. 그게 아니면 좋아.\n",
      "어머니의 얼굴을 가지고 나뭇가리며 곁으로 들어갔다. \n",
      "\n",
      "Epoch: 41/50 471/471 Error: 15.746013123102525\n",
      "Seed: 이 산등에 올라서면 용연 동네는 저렇\n",
      "이 산등에 올라서면 용연 동네는 저렇게 아들어온다.\n",
      "그럼 그리고 나가 그의 급한 그릇을 바라보다가 그의 손을 꾹 쓸어 보았다.\n",
      "그리고 내다가를 돌아보았다. 그리고 그들은 아무 아래로 백들어 놓고 있다. \n",
      "그러나 그것은 그 집을 하고 나무다리를 후라진다.\n",
      "선비는 아니까?\n",
      "선비 어머니, 그들 가슴에 그들은 그의 얼굴을 휙 쉬며 그의 어머니는 눈을 꾹 감았다.\n",
      "그들 가슴에 그리 오늘을 띠고 그들의\n",
      "\n",
      "Epoch: 42/50 471/471 Error: 15.389701993389835\n",
      "Seed: 이 산등에 올라서면 용연 동네는 저렇\n",
      "이 산등에 올라서면 용연 동네는 저렇게 자꾸 가서 가시겠지나.\n",
      "이 그는 무엇을 생각하는 듯하였다. 그는 이리로 오는 것이 없었다.\n",
      "그는 나무다리 민수는 눈을 부쩍 들었다. 그리고 자기에는 물을 보이고 부엌 들었다.\n",
      "어서 가요.\n",
      "첫째는 어떤 간난이가 하나가 금시 시시시었다.\n",
      "그는 무엇을 생각하며,\n",
      "그럼 일시 그리고 무슨 자기를 보고 싶었다. \n",
      "그리고 그 집 자태나 그는 소리를 하는 모양이다. \n",
      "\n",
      "Epoch: 43/50 471/471 Error: 14.094702796621783\n",
      "Seed: 이 산등에 올라서면 용연 동네는 저렇\n",
      "이 산등에 올라서면 용연 동네는 저렇게 시굴이 되었다. 그리고 자기 속에 도록 기울이 들어가며 문 속으로 나간다. 그리고 울고 내어 놓고 있었습니까.\n",
      "아, 그 자식 한 있은 이 자식 한 있음 하고 나오는 듯한 듯한 그 후 한숨을 가게 들어온다.\n",
      "이애, 이애 왜? 이 자식!\n",
      "그러면 그것은 이 자식 앞이 가시겠지. 그러나 그는 소리를 한 번 지끈 보지 않았다. 그리고 어디 있어야지.\n",
      "어머니…… \n",
      "\n",
      "Epoch: 44/50 471/471 Error: 14.869085539465821\n",
      "Seed: 이 산등에 올라서면 용연 동네는 저렇\n",
      "이 산등에 올라서면 용연 동네는 저렇게 시원한 마음 들여다가 한참이나 생각하였다. 그는 눈을 꾹 감았다. \n",
      "그는 이 여자가 왔다.\n",
      "그는 이 동네 마침내 가라니, 그만 저리 사람을 죽 못 어려고 그 방으로 들어왔다.\n",
      "그들은 바라보았다. 그리고 그 집을 지르며 부엌으로 들어갔다.\n",
      "저놈의 새끼는 옥점이는 무슨 말을 하는 소리가 부쩍 들어 놓았다.\n",
      "그들은 흰 따랐다. 선비는 어머니 곁으로 들어갔다.\n",
      "\n",
      "Epoch: 45/50 471/471 Error: 15.300062441711255\n",
      "Seed: 이 산등에 올라서면 용연 동네는 저렇\n",
      "이 산등에 올라서면 용연 동네는 저렇게 그렇게 말하는 그만 눈에 동네 집으로 왔다.\n",
      "그러면 이서방은 첫째 어머니는 무슨 일이었다. 그때 그는 이렇게 부시시 들어갈다. \n",
      "그러나 그것은 그 돈 가 있는 것이다. 그러나 그는 무심히 같은 것이다. 그리고 그들이 그의 입에서 그의 얼굴을 다시금 생각하며,\n",
      "그럼 그 거리 지금 들어가 부르르 하면 선비가 약간 그렇게 주었다.\n",
      "선비는 얼른 눈에를 보고 들\n",
      "\n",
      "Epoch: 46/50 471/471 Error: 14.250429942318506\n",
      "Seed: 이 산등에 올라서면 용연 동네는 저렇\n",
      "이 산등에 올라서면 용연 동네는 저렇게 중얼거렸다. \n",
      "그리고 무슨 생각을 하고 들어, 나무다리가 그의 어머니의 손을 끌어 뿌렸다. 그리고 지붕을 놓고 울고 싶었다.\n",
      "그는 무엇을 생각하고 쉬었다.\n",
      "그들은 순간에 그의 머리를 짚고 있다가 나무다리를 짚고 옥점이는 휭 돌아가 들어가 가라 오니 어려서 목을 놓고 울고 싶었다.\n",
      "들음이 소리가 휙 떠오른다.\n",
      "선비는 어머니와 얼굴을 바라보며 이렇게 더르고\n",
      "\n",
      "Epoch: 47/50 471/471 Error: 14.541062386313843\n",
      "Seed: 이 산등에 올라서면 용연 동네는 저렇\n",
      "이 산등에 올라서면 용연 동네는 저렇게 시얼거리며 그편 선뜻하였다.\n",
      "아부지, 이서방!\n",
      "첫째는 선비의 자태를 바라보며 이렇게 말하였다. 그는 어머니를 바라보았다.\n",
      "안방문을 열리며 옥점이를 바라보았다.\n",
      "어머니, 나 자놈의 계집애! 하고 나무 하며, 그는 어실러진 손에 쥐어 주는 모양인지 이러한 듯하였다.\n",
      "어머니, 선비 어머니는 이렇게 중얼거렸다. 그리고 어디서 이 있어 자기 귀에 섰는 모양이다.\n",
      "\n",
      "Epoch: 48/50 471/471 Error: 14.941643954501213\n",
      "Seed: 이 산등에 올라서면 용연 동네는 저렇\n",
      "이 산등에 올라서면 용연 동네는 저렇게 시재한 듯이 그의 아무도 지붕을 지르고 나오던 나무다리를 짚고 그는 마루만 귀를 기울였다. 그래서 그는 머리를 숙여 들어앉으며 무슨 생각을 하고, 아무 때문 밖에 또다시 한숨을 푹 쉬며 첫째를 어떻게 말하였다. 그는 무의식간에 그의 손을 끌어 뿌렸다. 그리고 그는 신철의 손을 끌어나 뚝 내려갔다. 그래서 그는 눈물을 끌고 나간다. 그래서 그는 머리를 숙\n",
      "\n",
      "Epoch: 49/50 471/471 Error: 14.897062422659602\n",
      "Seed: 이 산등에 올라서면 용연 동네는 저렇\n",
      "이 산등에 올라서면 용연 동네는 저렇게 얼굴을 바라보며 손을 뽑아 후에 붙들었다. 그리고 신철이는 옥점 어머니는 선비를 거리 없이 그의 뒤를 따라 물 속에서 그의 눈을 머리에 털이 며칠 것이 없어서 이 자리에 앞에 마루 모두 가만 말을 하였다. 그리고 신철이는 이렇게 말하였다. \n",
      "그는 무의식간에 선비는 얼굴이 빨개지며 머뭇머뭇하고 있다. 선비는 이 따리가 이 사람이 없었다. 그는 무의식간에 \n",
      "\n",
      "Epoch: 50/50 471/471 Error: 13.231437137807344\n",
      "Seed: 이 산등에 올라서면 용연 동네는 저렇\n",
      "이 산등에 올라서면 용연 동네는 저렇게 생각하였다. 그리고 그 위에 도리어 넣고 말았다. 그러나 그가 어디가 일이 아니? 아내지 그게…… 하고 생각하였다.\n",
      "그제야 그리고 울고 싶었다. 그리고 그는 어쩔 일이 있었다.\n",
      "그리고 그의 어머니는 생각이 버쩍 들었다. 그리고 그의 어머니를 바라보며 손을 씻었다. 그리고 그의 손을 먹고 그들의 손에라 자기 송이를 만나 그는 어젯밤 일이 있지도 않고 안 \n",
      "\n"
     ]
    },
    {
     "data": {
      "image/png": "[encoded data removed]",
      "text/plain": [
       "<Figure size 432x288 with 1 Axes>"
      ]
     },
     "metadata": {
      "needs_background": "light",
      "tags": []
     },
     "output_type": "display_data"
    },
    {
     "name": "stdout",
     "output_type": "stream",
     "text": [
      "time : 1928.7747883796692\n"
     ]
    }
   ],
   "source": [
    "# training with clipping gradient\n",
    "import time\n",
    "start = time.time()\n",
    "\n",
    "error_record = []\n",
    "n_batch = len(input_data) // batch_size\n",
    "for i in range(epochs):\n",
    "    index_random = np.arange(len(input_data))\n",
    "    np.random.shuffle(index_random)\n",
    "    for j in range(n_batch):\n",
    "        mb_index = index_random[j * batch_size:(j + 1) * batch_size]\n",
    "        x_mb = input_data[mb_index, :]\n",
    "        t_mb = correct_data[mb_index, :]\n",
    "        train(x_mb, t_mb)\n",
    "        \n",
    "        print(\"\\rEpoch: \" + str(i + 1) + \"/\" + str(epochs) + \\\n",
    "              \" \" + str(j + 1) + \"/\" + str(n_batch), end=\"\")\n",
    "    error = get_error(input_data, correct_data)\n",
    "    error_record.append(error)\n",
    "    print(\" Error: \" + str(error))\n",
    "    \n",
    "    create_text()\n",
    "    \n",
    "plt.plot(range(1, len(error_record) + 1), error_record)\n",
    "plt.xlabel(\"Epochs\")\n",
    "plt.ylabel(\"Error\")\n",
    "plt.show()\n",
    "\n",
    "print(\"time :\", time.time() - start)"
   ]
  }
 ],
 "metadata": {
  "accelerator": "GPU",
  "colab": {
   "name": "LSTM.ipynb",
   "provenance": []
  },
  "kernelspec": {
   "display_name": "Python 3",
   "language": "python",
   "name": "python3"
  },
  "language_info": {
   "codemirror_mode": {
    "name": "ipython",
    "version": 3
   },
   "file_extension": ".py",
   "mimetype": "text/x-python",
   "name": "python",
   "nbconvert_exporter": "python",
   "pygments_lexer": "ipython3",
   "version": "3.8.3"
  }
 },
 "nbformat": 4,
 "nbformat_minor": 1
}
