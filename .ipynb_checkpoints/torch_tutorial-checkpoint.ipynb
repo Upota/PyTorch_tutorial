{
 "cells": [
  {
   "cell_type": "markdown",
   "metadata": {},
   "source": [
    "**PyTorch: nn**"
   ]
  },
  {
   "cell_type": "code",
   "execution_count": 1,
   "metadata": {},
   "outputs": [
    {
     "name": "stdout",
     "output_type": "stream",
     "text": [
      "99 1375.825439453125\n",
      "199 916.2227783203125\n",
      "299 611.29541015625\n",
      "399 408.94415283203125\n",
      "499 274.63128662109375\n",
      "599 185.4572296142578\n",
      "699 126.236328125\n",
      "799 86.8963623046875\n",
      "899 60.75560760498047\n",
      "999 43.3796272277832\n",
      "1099 31.82601547241211\n",
      "1199 24.14103889465332\n",
      "1299 19.027437210083008\n",
      "1399 15.62343978881836\n",
      "1499 13.356554985046387\n",
      "1599 11.846261978149414\n",
      "1699 10.839571952819824\n",
      "1799 10.168210983276367\n",
      "1899 9.72026538848877\n",
      "1999 9.421211242675781\n",
      "Result: y = 0.010836991481482983 + 0.8350211977958679 x + -0.0018695604521781206 x^2 + -0.0902409628033638 x^3\n"
     ]
    }
   ],
   "source": [
    "import torch\n",
    "import math\n",
    "\n",
    "x = torch.linspace(-math.pi, math.pi, 2000)\n",
    "y = torch.sin(x)\n",
    "\n",
    "p = torch.tensor([1, 2, 3])\n",
    "xx = x.unsqueeze(-1).pow(p)\n",
    "\n",
    "model = torch.nn.Sequential(\n",
    "    torch.nn.Linear(3, 1),\n",
    "    torch.nn.Flatten(0,1)\n",
    ")\n",
    "\n",
    "loss_fn = torch.nn.MSELoss(reduction='sum')\n",
    "\n",
    "learning_rate = 1e-6\n",
    "for t in range(2000):\n",
    "    y_pred = model(xx)\n",
    "    \n",
    "    loss = loss_fn(y_pred, y)\n",
    "    if t % 100 == 99:\n",
    "        print(t, loss.item())\n",
    "        \n",
    "    model.zero_grad()\n",
    "    \n",
    "    loss.backward()\n",
    "    \n",
    "    with torch.no_grad():\n",
    "        for param in model.parameters():\n",
    "            param -= learning_rate * param.grad\n",
    "\n",
    "linear_layer = model[0]\n",
    "\n",
    "print(f'Result: y = {linear_layer.bias.item()} + {linear_layer.weight[:, 0].item()} x + {linear_layer.weight[:, 1].item()} x^2 + {linear_layer.weight[:, 2].item()} x^3')"
   ]
  },
  {
   "cell_type": "markdown",
   "metadata": {},
   "source": [
    "**PyTorch: optim**"
   ]
  },
  {
   "cell_type": "code",
   "execution_count": 2,
   "metadata": {
    "scrolled": true
   },
   "outputs": [
    {
     "name": "stdout",
     "output_type": "stream",
     "text": [
      "99 8.8171968460083\n",
      "199 8.81736946105957\n",
      "299 8.86027717590332\n",
      "399 9.17846393585205\n",
      "499 9.00592041015625\n",
      "599 8.897049903869629\n",
      "699 8.89217758178711\n",
      "799 8.920647621154785\n",
      "899 8.933645248413086\n",
      "999 8.919496536254883\n",
      "1099 8.91645622253418\n",
      "1199 8.92132568359375\n",
      "1299 8.92234992980957\n",
      "1399 8.920473098754883\n",
      "1499 8.920206069946289\n",
      "1599 8.920896530151367\n",
      "1699 8.920957565307617\n",
      "1799 8.920706748962402\n",
      "1899 8.92068862915039\n",
      "1999 8.920796394348145\n",
      "Result: y = 0.0005000173696316779 + 0.8562406897544861 x + 0.0005000267410650849 x^2 + -0.09383048117160797 x^3\n"
     ]
    }
   ],
   "source": [
    "import torch\n",
    "import math\n",
    "\n",
    "learning_rate = 1e-3\n",
    "optimizer = torch.optim.RMSprop(model.parameters(), lr=learning_rate)\n",
    "for t in range(2000):\n",
    "    y_pred = model(xx)\n",
    "    \n",
    "    loss = loss_fn(y_pred, y)\n",
    "    if t % 100 == 99:\n",
    "        print(t, loss.item())\n",
    "        \n",
    "    optimizer.zero_grad()\n",
    "    \n",
    "    loss.backward()\n",
    "    \n",
    "    optimizer.step()\n",
    "    \n",
    "linear_layer = model[0]\n",
    "print(f'Result: y = {linear_layer.bias.item()} + {linear_layer.weight[:, 0].item()} x + {linear_layer.weight[:, 1].item()} x^2 + {linear_layer.weight[:, 2].item()} x^3')"
   ]
  },
  {
   "cell_type": "markdown",
   "metadata": {},
   "source": [
    "**PyTorch: Custom nn Modules**"
   ]
  },
  {
   "cell_type": "code",
   "execution_count": 6,
   "metadata": {},
   "outputs": [
    {
     "name": "stdout",
     "output_type": "stream",
     "text": [
      "99 2089.73876953125\n",
      "199 1406.8072509765625\n",
      "299 948.794677734375\n",
      "399 641.385986328125\n",
      "499 434.8936462402344\n",
      "599 296.0729675292969\n",
      "699 202.66635131835938\n",
      "799 139.7605438232422\n",
      "899 97.35701751708984\n",
      "999 68.74657440185547\n",
      "1099 49.42382049560547\n",
      "1199 36.36057662963867\n",
      "1299 27.52019500732422\n",
      "1399 21.5312442779541\n",
      "1499 17.46965789794922\n",
      "1599 14.712252616882324\n",
      "1699 12.838150024414062\n",
      "1799 11.562978744506836\n",
      "1899 10.694356918334961\n",
      "1999 10.102005004882812\n",
      "Result: y = 0.02727392129600048 + 0.8325182795524597 x + -0.004705203231424093 x^2 + -0.08988494426012039 x^3\n"
     ]
    }
   ],
   "source": [
    "class Polynomial3(torch.nn.Module):\n",
    "    def __init__(self):\n",
    "        super().__init__()\n",
    "        self.a = torch.nn.Parameter(torch.randn(()))\n",
    "        self.b = torch.nn.Parameter(torch.randn(()))\n",
    "        self.c = torch.nn.Parameter(torch.randn(()))\n",
    "        self.d = torch.nn.Parameter(torch.randn(()))\n",
    "        \n",
    "    def forward(self, x):\n",
    "        return self.a + self.b * x + self.c * x ** 2 + self.d * x ** 3\n",
    "    \n",
    "    def string(self):\n",
    "        return f'y = {self.a.item()} + {self.b.item()} x + {self.c.item()} x^2 + {self.d.item()} x^3'\n",
    "    \n",
    "model = Polynomial3()\n",
    "\n",
    "criterion = torch.nn.MSELoss(reduction='sum')\n",
    "optimizer = torch.optim.SGD(model.parameters(), lr=1e-6)\n",
    "for t in range(2000):\n",
    "    y_pred = model(x)\n",
    "    \n",
    "    loss = criterion(y_pred, y)\n",
    "    if t % 100 == 99:\n",
    "        print(t, loss.item())\n",
    "        \n",
    "    optimizer.zero_grad()\n",
    "    loss.backward()\n",
    "    optimizer.step()\n",
    "    \n",
    "print(f'Result: {model.string()}')"
   ]
  },
  {
   "cell_type": "code",
   "execution_count": 8,
   "metadata": {},
   "outputs": [
    {
     "name": "stdout",
     "output_type": "stream",
     "text": [
      "1999 809.023193359375\n",
      "3999 393.92095947265625\n",
      "5999 183.23011779785156\n",
      "7999 88.6411361694336\n",
      "9999 45.339141845703125\n",
      "11999 25.74620246887207\n",
      "13999 16.946008682250977\n",
      "15999 12.34952163696289\n",
      "17999 10.444167137145996\n",
      "19999 9.598468780517578\n",
      "21999 9.16418743133545\n",
      "23999 8.995888710021973\n",
      "25999 8.692695617675781\n",
      "27999 8.883627891540527\n",
      "29999 8.553327560424805\n",
      "Result: y = -0.0027960643637925386 + 0.8547561168670654 x + -5.507517926162109e-05 x^2 + -0.09349871426820755 x^3 + 0.00011805618123617023 x^4 ? + 0.00011805618123617023 x^5 ?\n"
     ]
    }
   ],
   "source": [
    "import random\n",
    "import torch\n",
    "import math\n",
    "\n",
    "\n",
    "class DynamicNet(torch.nn.Module):\n",
    "    def __init__(self):\n",
    "        super().__init__()\n",
    "        self.a = torch.nn.Parameter(torch.randn(()))\n",
    "        self.b = torch.nn.Parameter(torch.randn(()))\n",
    "        self.c = torch.nn.Parameter(torch.randn(()))\n",
    "        self.d = torch.nn.Parameter(torch.randn(()))\n",
    "        self.e = torch.nn.Parameter(torch.randn(()))\n",
    "\n",
    "    def forward(self, x):\n",
    "        y = self.a + self.b * x + self.c * x ** 2 + self.d * x ** 3\n",
    "        for exp in range(4, random.randint(4,6)):\n",
    "            y = y + self.e * x ** exp\n",
    "        return y\n",
    "    \n",
    "    def string(self):\n",
    "        return f'y = {self.a.item()} + {self.b.item()} x + {self.c.item()} x^2 + {self.d.item()} x^3 + {self.e.item()} x^4 ? + {self.e.item()} x^5 ?'\n",
    "    \n",
    "model = DynamicNet()\n",
    "\n",
    "criterion = torch.nn.MSELoss(reduction='sum')\n",
    "optimizer = torch.optim.SGD(model.parameters(), lr=1e-8, momentum=0.9)\n",
    "for t in range(30000):\n",
    "    y_pred = model(x)\n",
    "    \n",
    "    loss = criterion(y_pred, y)\n",
    "    if t % 2000 == 1999:\n",
    "        print(t, loss.item())\n",
    "        \n",
    "    optimizer.zero_grad()\n",
    "    loss.backward()\n",
    "    optimizer.step()\n",
    "    \n",
    "print(f'Result: {model.string()}')"
   ]
  },
  {
   "cell_type": "code",
   "execution_count": null,
   "metadata": {},
   "outputs": [],
   "source": []
  }
 ],
 "metadata": {
  "kernelspec": {
   "display_name": "Python 3",
   "language": "python",
   "name": "python3"
  },
  "language_info": {
   "codemirror_mode": {
    "name": "ipython",
    "version": 3
   },
   "file_extension": ".py",
   "mimetype": "text/x-python",
   "name": "python",
   "nbconvert_exporter": "python",
   "pygments_lexer": "ipython3",
   "version": "3.8.3"
  }
 },
 "nbformat": 4,
 "nbformat_minor": 4
}
