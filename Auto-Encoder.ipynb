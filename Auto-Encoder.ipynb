{
 "cells": [
  {
   "cell_type": "code",
   "execution_count": 1,
   "metadata": {},
   "outputs": [],
   "source": [
    "import numpy as np\n",
    "# import cupy as np\n",
    "import matplotlib.pyplot as plt\n",
    "from sklearn import datasets"
   ]
  },
  {
   "cell_type": "code",
   "execution_count": 2,
   "metadata": {},
   "outputs": [],
   "source": [
    "img_size = 8\n",
    "n_in_out = img_size * img_size\n",
    "n_mid = 16\n",
    "\n",
    "eta = 0.01\n",
    "epochs = 41\n",
    "batch_size = 32\n",
    "interval = 4"
   ]
  },
  {
   "cell_type": "code",
   "execution_count": 3,
   "metadata": {},
   "outputs": [],
   "source": [
    "digits_data = datasets.load_digits()\n",
    "x_train = np.asarray(digits_data.data)\n",
    "x_train /= 15"
   ]
  },
  {
   "cell_type": "code",
   "execution_count": 4,
   "metadata": {},
   "outputs": [],
   "source": [
    "class BaseLayer:\n",
    "    def update(self, eta):\n",
    "        self.w -= eta * self.grad_w\n",
    "        self.b -= eta * self.grad_b\n",
    "        \n",
    "class MiddleLayer(BaseLayer):\n",
    "    def __init__(self, n_upper, n):\n",
    "        self.w = np.random.randn(n_upper, n) * np.sqrt(2 / n_upper) # He init\n",
    "        self.b = np.zeros(n)\n",
    "        \n",
    "    def forward(self, x):\n",
    "        self.x = x\n",
    "        self.u = np.dot(x, self.w) + self.b\n",
    "        self.y = np.where(self.u <= 0, 0, self.u) # ReLU\n",
    "        \n",
    "    def backward(self, grad_y):\n",
    "        delta = grad_y * np.where(self.u <= 0, 0, 1) \n",
    "        \n",
    "        self.grad_w = np.dot(self.x.T, delta)\n",
    "        self.grad_b = np.sum(delta, axis=0)\n",
    "        self.grad_x = np.dot(delta, self.w.T)\n",
    "        \n",
    "class OutputLayer(BaseLayer):\n",
    "    def __init__(self, n_upper, n):\n",
    "        self.w = np.random.randn(n_upper, n) / np.sqrt(n_upper)\n",
    "        self.b = np.zeros(n)\n",
    "        \n",
    "    def forward(self, x):\n",
    "        self.x = x\n",
    "        u = np.dot(x, self.w) + self.b\n",
    "        self.y = 1 / (1 + np.exp(-u)) # sigmoid\n",
    "        \n",
    "    def backward(self, t):\n",
    "        delta = (self.y - t) * self.y * (1 - self.y)\n",
    "        \n",
    "        self.grad_w = np.dot(self.x.T, delta)\n",
    "        self.grad_b = np.sum(delta, axis=0)\n",
    "        self.grad_x = np.dot(delta, self.w.T)"
   ]
  },
  {
   "cell_type": "code",
   "execution_count": 5,
   "metadata": {},
   "outputs": [],
   "source": [
    "middle_layer = MiddleLayer(n_in_out, n_mid) # Encoder\n",
    "output_layer = OutputLayer(n_mid, n_in_out) # Decoder"
   ]
  },
  {
   "cell_type": "code",
   "execution_count": 6,
   "metadata": {},
   "outputs": [],
   "source": [
    "def forward_propagation(x_mb):\n",
    "    middle_layer.forward(x_mb)\n",
    "    output_layer.forward(middle_layer.y)\n",
    "    \n",
    "def backward_propagation(t_mb):\n",
    "    output_layer.backward(t_mb)\n",
    "    middle_layer.backward(output_layer.grad_x)\n",
    "    \n",
    "def update_params():\n",
    "    middle_layer.update(eta)\n",
    "    output_layer.update(eta)\n",
    "    \n",
    "def get_error(y, t):\n",
    "    return 1.0 / 2.0 * np.sum(np.square(y - t)) # MSE"
   ]
  },
  {
   "cell_type": "code",
   "execution_count": 7,
   "metadata": {},
   "outputs": [
    {
     "name": "stdout",
     "output_type": "stream",
     "text": [
      "Epoch:1/41 Error:3123.9991996701756\n",
      "Epoch:5/41 Error:1581.6870764294188\n",
      "Epoch:9/41 Error:1179.3503349645957\n",
      "Epoch:13/41 Error:987.2718458211199\n",
      "Epoch:17/41 Error:861.6308998164047\n",
      "Epoch:21/41 Error:831.1978644513536\n",
      "Epoch:25/41 Error:801.2268031110473\n",
      "Epoch:29/41 Error:776.794670265431\n",
      "Epoch:33/41 Error:741.5722749318301\n",
      "Epoch:37/41 Error:705.3560238338679\n",
      "Epoch:41/41 Error:675.0572561805736\n"
     ]
    },
    {
     "data": {
      "image/png": "[encoded data removed]",
      "text/plain": [
       "<Figure size 432x288 with 1 Axes>"
      ]
     },
     "metadata": {
      "needs_background": "light"
     },
     "output_type": "display_data"
    }
   ],
   "source": [
    "error_record = []\n",
    "n_batch = len(x_train) // batch_size\n",
    "\n",
    "for i in range(epochs):\n",
    "    index_random = np.arange(len(x_train))\n",
    "    np.random.shuffle(index_random)\n",
    "    for j in range(n_batch):\n",
    "        mb_index = index_random[j * batch_size : (j + 1) * batch_size]\n",
    "        x_mb = x_train[mb_index, :]\n",
    "        \n",
    "        forward_propagation(x_mb)\n",
    "        backward_propagation(x_mb)\n",
    "        \n",
    "        update_params()\n",
    "    \n",
    "    forward_propagation(x_train)\n",
    "    error = get_error(output_layer.y, x_train)\n",
    "    error_record.append(error)\n",
    "    \n",
    "    if i % interval == 0:\n",
    "        print(\"Epoch:\" + str(i + 1) + \"/\" + str(epochs), \"Error:\" + str(error))\n",
    "        \n",
    "plt.plot(range(1, len(error_record ) + 1), error_record)\n",
    "plt.xlabel(\"Epochs\")\n",
    "plt.ylabel(\"Error\")\n",
    "plt.show()"
   ]
  },
  {
   "cell_type": "code",
   "execution_count": 8,
   "metadata": {},
   "outputs": [
    {
     "data": {
      "image/png": "[encoded data removed]",
      "text/plain": [
       "<Figure size 720x216 with 30 Axes>"
      ]
     },
     "metadata": {
      "needs_background": "light"
     },
     "output_type": "display_data"
    }
   ],
   "source": [
    "n_img = 10\n",
    "middle_layer.forward(x_train[:n_img])\n",
    "output_layer.forward(middle_layer.y)\n",
    "\n",
    "plt.figure(figsize=(10, 3))\n",
    "for i in range(n_img):\n",
    "    ax = plt.subplot(3, n_img, i + 1)\n",
    "    plt.imshow(x_train[i].reshape(img_size, -1).tolist(), cmap=\"Greys_r\")\n",
    "    ax.get_xaxis().set_visible(False)\n",
    "    ax.get_yaxis().set_visible(False)\n",
    "    \n",
    "    ax = plt.subplot(3, n_img, i + 1 + n_img)\n",
    "    plt.imshow(middle_layer.y[i].reshape(4, -1).tolist(), cmap=\"Greys_r\")\n",
    "    ax.get_xaxis().set_visible(False)\n",
    "    ax.get_yaxis().set_visible(False)\n",
    "    \n",
    "    ax = plt.subplot(3, n_img, i + 1 + 2 * n_img)\n",
    "    plt.imshow(output_layer.y[i].reshape(img_size, -1).tolist(), cmap=\"Greys_r\")\n",
    "    ax.get_xaxis().set_visible(False)\n",
    "    ax.get_yaxis().set_visible(False)\n",
    "    \n",
    "plt.show()"
   ]
  },
  {
   "cell_type": "code",
   "execution_count": null,
   "metadata": {},
   "outputs": [],
   "source": []
  }
 ],
 "metadata": {
  "kernelspec": {
   "display_name": "Python 3",
   "language": "python",
   "name": "python3"
  },
  "language_info": {
   "codemirror_mode": {
    "name": "ipython",
    "version": 3
   },
   "file_extension": ".py",
   "mimetype": "text/x-python",
   "name": "python",
   "nbconvert_exporter": "python",
   "pygments_lexer": "ipython3",
   "version": "3.8.3"
  }
 },
 "nbformat": 4,
 "nbformat_minor": 4
}
